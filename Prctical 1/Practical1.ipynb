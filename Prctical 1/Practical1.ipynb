{
  "nbformat": 4,
  "nbformat_minor": 0,
  "metadata": {
    "colab": {
      "provenance": []
    },
    "kernelspec": {
      "name": "python3",
      "display_name": "Python 3"
    },
    "language_info": {
      "name": "python"
    }
  },
  "cells": [
    {
      "cell_type": "markdown",
      "source": [
        "## find mean, median. mode of the given array"
      ],
      "metadata": {
        "id": "VQXEFh-RVlc_"
      }
    },
    {
      "cell_type": "code",
      "source": [],
      "metadata": {
        "id": "GVbcd9zEVjwZ"
      },
      "execution_count": null,
      "outputs": []
    },
    {
      "cell_type": "code",
      "execution_count": 62,
      "metadata": {
        "id": "4F_XXdroKhDB"
      },
      "outputs": [],
      "source": [
        "import numpy as np\n",
        "import pandas as pd\n",
        "\n"
      ]
    },
    {
      "cell_type": "code",
      "source": [
        "data =[10,12,19,20]"
      ],
      "metadata": {
        "id": "BmW6hZHbVIZl"
      },
      "execution_count": 61,
      "outputs": []
    },
    {
      "cell_type": "code",
      "source": [
        "print(np.mean(data))\n",
        "print(np.median(data))\n",
        "sdata = pd.Series(data)\n",
        "print(sdata[0])"
      ],
      "metadata": {
        "colab": {
          "base_uri": "https://localhost:8080/"
        },
        "id": "WCvTVEszVGrG",
        "outputId": "68cad629-bad7-485e-aded-d6d4b18e6dc4"
      },
      "execution_count": 60,
      "outputs": [
        {
          "output_type": "stream",
          "name": "stdout",
          "text": [
            "15.25\n",
            "15.5\n",
            "10\n"
          ]
        }
      ]
    },
    {
      "cell_type": "markdown",
      "source": [
        "## find mean, median. mode of no of cyclinders in the autompg dataset ."
      ],
      "metadata": {
        "id": "tgFYAtMGPSxe"
      }
    },
    {
      "cell_type": "code",
      "source": [
        "import pandas as pd\n"
      ],
      "metadata": {
        "id": "f0d2ikwPPXQB"
      },
      "execution_count": null,
      "outputs": []
    },
    {
      "cell_type": "code",
      "source": [
        "url = 'https://archive.ics.uci.edu/ml/machine-learning-databases/auto-mpg/auto-mpg.data'\n",
        "column_names = ['mpg','cylinders','displacement','horsepower','weight','acceleration','model year','origin','car name']"
      ],
      "metadata": {
        "id": "fIMqUxj5PgCb"
      },
      "execution_count": null,
      "outputs": []
    },
    {
      "cell_type": "code",
      "source": [
        "df = pd.read_csv(url , names=column_names , delim_whitespace=True , na_values= '?' )\n",
        "print(df.head(10))"
      ],
      "metadata": {
        "colab": {
          "base_uri": "https://localhost:8080/"
        },
        "id": "Uud6IkLyPyhL",
        "outputId": "fe884790-1daf-43e2-f777-a75cc1fc9437"
      },
      "execution_count": null,
      "outputs": [
        {
          "output_type": "stream",
          "name": "stderr",
          "text": [
            "/tmp/ipython-input-48-668094071.py:1: FutureWarning: The 'delim_whitespace' keyword in pd.read_csv is deprecated and will be removed in a future version. Use ``sep='\\s+'`` instead\n",
            "  df = pd.read_csv(url , names=column_names , delim_whitespace=True , na_values= '?' )\n"
          ]
        },
        {
          "output_type": "stream",
          "name": "stdout",
          "text": [
            "    mpg  cylinders  displacement  horsepower  weight  acceleration  \\\n",
            "0  18.0          8         307.0       130.0  3504.0          12.0   \n",
            "1  15.0          8         350.0       165.0  3693.0          11.5   \n",
            "2  18.0          8         318.0       150.0  3436.0          11.0   \n",
            "3  16.0          8         304.0       150.0  3433.0          12.0   \n",
            "4  17.0          8         302.0       140.0  3449.0          10.5   \n",
            "5  15.0          8         429.0       198.0  4341.0          10.0   \n",
            "6  14.0          8         454.0       220.0  4354.0           9.0   \n",
            "7  14.0          8         440.0       215.0  4312.0           8.5   \n",
            "8  14.0          8         455.0       225.0  4425.0          10.0   \n",
            "9  15.0          8         390.0       190.0  3850.0           8.5   \n",
            "\n",
            "   model year  origin                   car name  \n",
            "0          70       1  chevrolet chevelle malibu  \n",
            "1          70       1          buick skylark 320  \n",
            "2          70       1         plymouth satellite  \n",
            "3          70       1              amc rebel sst  \n",
            "4          70       1                ford torino  \n",
            "5          70       1           ford galaxie 500  \n",
            "6          70       1           chevrolet impala  \n",
            "7          70       1          plymouth fury iii  \n",
            "8          70       1           pontiac catalina  \n",
            "9          70       1         amc ambassador dpl  \n"
          ]
        }
      ]
    },
    {
      "cell_type": "code",
      "source": [
        "cyclinder_mean = df['cylinders'].mean()\n",
        "print(\"mean of Cyclinders:\",cyclinder_mean)"
      ],
      "metadata": {
        "colab": {
          "base_uri": "https://localhost:8080/"
        },
        "id": "lCZLOLkOQA48",
        "outputId": "17d3826b-29fe-48e2-dd2d-66fca9de905c"
      },
      "execution_count": null,
      "outputs": [
        {
          "output_type": "stream",
          "name": "stdout",
          "text": [
            "mean of Cyclinders: 5.454773869346734\n"
          ]
        }
      ]
    },
    {
      "cell_type": "code",
      "source": [
        "cyclinder_median = df['cylinders'].median()\n",
        "print(\"median of Cyclinders:\",cyclinder_median)\n"
      ],
      "metadata": {
        "colab": {
          "base_uri": "https://localhost:8080/"
        },
        "id": "Sd_gjJWnSb5f",
        "outputId": "f0d1a269-a1d1-42f9-b742-af2b507dbfe1"
      },
      "execution_count": null,
      "outputs": [
        {
          "output_type": "stream",
          "name": "stdout",
          "text": [
            "median of Cyclinders: 4.0\n"
          ]
        }
      ]
    },
    {
      "cell_type": "code",
      "source": [
        "cyclinder_mode = df['cylinders'].mode()\n",
        "print(\"mode of Cyclinders:\",cyclinder_mode[0])\n",
        "\n"
      ],
      "metadata": {
        "colab": {
          "base_uri": "https://localhost:8080/"
        },
        "id": "NNSjLu5uSt4K",
        "outputId": "d43bd7d7-aaf4-4ad8-eeb0-ad6ed0e81765"
      },
      "execution_count": null,
      "outputs": [
        {
          "output_type": "stream",
          "name": "stdout",
          "text": [
            "mode of Cyclinders: 4\n"
          ]
        }
      ]
    },
    {
      "cell_type": "code",
      "source": [],
      "metadata": {
        "id": "wcsQ9DdlToF-"
      },
      "execution_count": null,
      "outputs": []
    }
  ]
}