{
  "cells": [
    {
      "cell_type": "markdown",
      "metadata": {},
      "source": [
        "## Aim: Perform data preprocessing using created dataframe using pandas\n",
        "## and answer the following questions:\n",
        "1. Count missing values in columns.\n",
        "2. Count missing values in each row.\n",
        "3. Add new row in dataframe.\n",
        "4. Remove duplicate values.\n",
        "5. Use of fill function for all column and one column[0,-99,value,Name].\n",
        "6. Use of Replace function.\n",
        "7. Use of mode,median and mean function.\n",
        "8. Use of bfill,ffill in numeric dataframe.\n",
        "9. Use of mode function for categorical dataframe."
      ]
    },
    {
      "cell_type": "markdown",
      "metadata": {},
      "source": [
        "Dataset 1 - categorical"
      ]
    },
    {
      "cell_type": "code",
      "execution_count": 2,
      "metadata": {
        "id": "kHtMbGoz7dM3"
      },
      "outputs": [],
      "source": [
        "import numpy as np\n",
        "import pandas as pd\n",
        "students=[('Prakshil',22,'Ahmedabad','Adani'),\n",
        "          ('Dharmik',np.nan,'Ahmedabad','Adani'),\n",
        "          ('Jay', 21, 'Surat', 'Reliance'),\n",
        "          ('Dhruv', np.nan, 'Vadodara', np.nan),\n",
        "          ('Rahul', 23, np.nan, 'Tata'),\n",
        "          ('Amit', 25, 'Pune', 'Infosys'),\n",
        "          ('Bhavin', np.nan, 'Bangalore', 'Wipro'),\n",
        "          ('Chirag', 20, 'Mumbai', np.nan),\n",
        "          ('namra', np.nan, 'London', 'Microsoft'),\n",
        "          ('vatsal', np.nan, 'Sydney', 'Atlassian'),\n",
        "          (np.nan,np.nan,np.nan,'yahoo')]\n"
      ]
    },
    {
      "cell_type": "markdown",
      "metadata": {},
      "source": [
        "Dataset 2 - numerical"
      ]
    },
    {
      "cell_type": "code",
      "execution_count": 25,
      "metadata": {
        "id": "de499f90"
      },
      "outputs": [
        {
          "data": {
            "text/html": [
              "<div>\n",
              "<style scoped>\n",
              "    .dataframe tbody tr th:only-of-type {\n",
              "        vertical-align: middle;\n",
              "    }\n",
              "\n",
              "    .dataframe tbody tr th {\n",
              "        vertical-align: top;\n",
              "    }\n",
              "\n",
              "    .dataframe thead th {\n",
              "        text-align: right;\n",
              "    }\n",
              "</style>\n",
              "<table border=\"1\" class=\"dataframe\">\n",
              "  <thead>\n",
              "    <tr style=\"text-align: right;\">\n",
              "      <th></th>\n",
              "      <th>A</th>\n",
              "      <th>B</th>\n",
              "      <th>c</th>\n",
              "      <th>D</th>\n",
              "      <th>E</th>\n",
              "      <th>F</th>\n",
              "      <th>G</th>\n",
              "    </tr>\n",
              "  </thead>\n",
              "  <tbody>\n",
              "    <tr>\n",
              "      <th>0</th>\n",
              "      <td>24.0</td>\n",
              "      <td>34.0</td>\n",
              "      <td>2.0</td>\n",
              "      <td>NaN</td>\n",
              "      <td>12.0</td>\n",
              "      <td>82.0</td>\n",
              "      <td>87</td>\n",
              "    </tr>\n",
              "    <tr>\n",
              "      <th>1</th>\n",
              "      <td>90.0</td>\n",
              "      <td>93.0</td>\n",
              "      <td>45.0</td>\n",
              "      <td>9.0</td>\n",
              "      <td>NaN</td>\n",
              "      <td>NaN</td>\n",
              "      <td>33</td>\n",
              "    </tr>\n",
              "    <tr>\n",
              "      <th>2</th>\n",
              "      <td>78.0</td>\n",
              "      <td>NaN</td>\n",
              "      <td>78.0</td>\n",
              "      <td>71.0</td>\n",
              "      <td>88.0</td>\n",
              "      <td>82.0</td>\n",
              "      <td>37</td>\n",
              "    </tr>\n",
              "    <tr>\n",
              "      <th>3</th>\n",
              "      <td>NaN</td>\n",
              "      <td>56.0</td>\n",
              "      <td>NaN</td>\n",
              "      <td>NaN</td>\n",
              "      <td>59.0</td>\n",
              "      <td>59.0</td>\n",
              "      <td>67</td>\n",
              "    </tr>\n",
              "  </tbody>\n",
              "</table>\n",
              "</div>"
            ],
            "text/plain": [
              "      A     B     c     D     E     F   G\n",
              "0  24.0  34.0   2.0   NaN  12.0  82.0  87\n",
              "1  90.0  93.0  45.0   9.0   NaN   NaN  33\n",
              "2  78.0   NaN  78.0  71.0  88.0  82.0  37\n",
              "3   NaN  56.0   NaN   NaN  59.0  59.0  67"
            ]
          },
          "execution_count": 25,
          "metadata": {},
          "output_type": "execute_result"
        }
      ],
      "source": [
        "data = {\n",
        "    'A':[24,90,78,np.nan],\n",
        "    'B':[34,93,np.nan,56],\n",
        "    'c':[2,45,78,np.nan],\n",
        "    'D':[np.nan,9,71,np.nan],\n",
        "    'E':[12,np.nan,88,59],\n",
        "    'F':[82,np.nan,82,59],\n",
        "    'G':[87,33,37,67],\n",
        "}\n",
        "\n",
        "dc = pd.DataFrame(data)\n",
        "dc"
      ]
    },
    {
      "cell_type": "code",
      "execution_count": 4,
      "metadata": {
        "id": "a2912a7e"
      },
      "outputs": [],
      "source": [
        "df  = pd.DataFrame(students, columns=['name','age','city','company'], index=['a','b','c','d','e','f','g','h','i','j','k'])"
      ]
    },
    {
      "cell_type": "code",
      "execution_count": 5,
      "metadata": {
        "colab": {
          "base_uri": "https://localhost:8080/",
          "height": 394
        },
        "id": "yXj_bZM9BQwH",
        "outputId": "16205d56-354a-421c-c329-9264545d37f5"
      },
      "outputs": [
        {
          "data": {
            "text/html": [
              "<div>\n",
              "<style scoped>\n",
              "    .dataframe tbody tr th:only-of-type {\n",
              "        vertical-align: middle;\n",
              "    }\n",
              "\n",
              "    .dataframe tbody tr th {\n",
              "        vertical-align: top;\n",
              "    }\n",
              "\n",
              "    .dataframe thead th {\n",
              "        text-align: right;\n",
              "    }\n",
              "</style>\n",
              "<table border=\"1\" class=\"dataframe\">\n",
              "  <thead>\n",
              "    <tr style=\"text-align: right;\">\n",
              "      <th></th>\n",
              "      <th>name</th>\n",
              "      <th>age</th>\n",
              "      <th>city</th>\n",
              "      <th>company</th>\n",
              "    </tr>\n",
              "  </thead>\n",
              "  <tbody>\n",
              "    <tr>\n",
              "      <th>a</th>\n",
              "      <td>Prakshil</td>\n",
              "      <td>22.0</td>\n",
              "      <td>Ahmedabad</td>\n",
              "      <td>Adani</td>\n",
              "    </tr>\n",
              "    <tr>\n",
              "      <th>b</th>\n",
              "      <td>Dharmik</td>\n",
              "      <td>NaN</td>\n",
              "      <td>Ahmedabad</td>\n",
              "      <td>Adani</td>\n",
              "    </tr>\n",
              "    <tr>\n",
              "      <th>c</th>\n",
              "      <td>Jay</td>\n",
              "      <td>21.0</td>\n",
              "      <td>Surat</td>\n",
              "      <td>Reliance</td>\n",
              "    </tr>\n",
              "    <tr>\n",
              "      <th>d</th>\n",
              "      <td>Dhruv</td>\n",
              "      <td>NaN</td>\n",
              "      <td>Vadodara</td>\n",
              "      <td>NaN</td>\n",
              "    </tr>\n",
              "    <tr>\n",
              "      <th>e</th>\n",
              "      <td>Rahul</td>\n",
              "      <td>23.0</td>\n",
              "      <td>NaN</td>\n",
              "      <td>Tata</td>\n",
              "    </tr>\n",
              "    <tr>\n",
              "      <th>f</th>\n",
              "      <td>Amit</td>\n",
              "      <td>25.0</td>\n",
              "      <td>Pune</td>\n",
              "      <td>Infosys</td>\n",
              "    </tr>\n",
              "    <tr>\n",
              "      <th>g</th>\n",
              "      <td>Bhavin</td>\n",
              "      <td>NaN</td>\n",
              "      <td>Bangalore</td>\n",
              "      <td>Wipro</td>\n",
              "    </tr>\n",
              "    <tr>\n",
              "      <th>h</th>\n",
              "      <td>Chirag</td>\n",
              "      <td>20.0</td>\n",
              "      <td>Mumbai</td>\n",
              "      <td>NaN</td>\n",
              "    </tr>\n",
              "    <tr>\n",
              "      <th>i</th>\n",
              "      <td>namra</td>\n",
              "      <td>NaN</td>\n",
              "      <td>London</td>\n",
              "      <td>Microsoft</td>\n",
              "    </tr>\n",
              "    <tr>\n",
              "      <th>j</th>\n",
              "      <td>vatsal</td>\n",
              "      <td>NaN</td>\n",
              "      <td>Sydney</td>\n",
              "      <td>Atlassian</td>\n",
              "    </tr>\n",
              "    <tr>\n",
              "      <th>k</th>\n",
              "      <td>NaN</td>\n",
              "      <td>NaN</td>\n",
              "      <td>NaN</td>\n",
              "      <td>yahoo</td>\n",
              "    </tr>\n",
              "  </tbody>\n",
              "</table>\n",
              "</div>"
            ],
            "text/plain": [
              "       name   age       city    company\n",
              "a  Prakshil  22.0  Ahmedabad      Adani\n",
              "b   Dharmik   NaN  Ahmedabad      Adani\n",
              "c       Jay  21.0      Surat   Reliance\n",
              "d     Dhruv   NaN   Vadodara        NaN\n",
              "e     Rahul  23.0        NaN       Tata\n",
              "f      Amit  25.0       Pune    Infosys\n",
              "g    Bhavin   NaN  Bangalore      Wipro\n",
              "h    Chirag  20.0     Mumbai        NaN\n",
              "i     namra   NaN     London  Microsoft\n",
              "j    vatsal   NaN     Sydney  Atlassian\n",
              "k       NaN   NaN        NaN      yahoo"
            ]
          },
          "execution_count": 5,
          "metadata": {},
          "output_type": "execute_result"
        }
      ],
      "source": [
        "df"
      ]
    },
    {
      "cell_type": "markdown",
      "metadata": {},
      "source": [
        "Calculate missing values in each column or display a boolena matrix\n"
      ]
    },
    {
      "cell_type": "code",
      "execution_count": 6,
      "metadata": {
        "colab": {
          "base_uri": "https://localhost:8080/"
        },
        "id": "-hZNjxFf8LN0",
        "outputId": "80d2f821-c147-4c6c-c052-3102d21802e5"
      },
      "outputs": [
        {
          "name": "stdout",
          "output_type": "stream",
          "text": [
            "For the boolean matrix     name    age   city  company\n",
            "a  False  False  False    False\n",
            "b  False   True  False    False\n",
            "c  False  False  False    False\n",
            "d  False   True  False     True\n",
            "e  False  False   True    False\n",
            "f  False  False  False    False\n",
            "g  False   True  False    False\n",
            "h  False  False  False     True\n",
            "i  False   True  False    False\n",
            "j  False   True  False    False\n",
            "k   True   True   True    False\n"
          ]
        }
      ],
      "source": [
        "print(\"For the boolean matrix\",df.isnull())"
      ]
    },
    {
      "cell_type": "markdown",
      "metadata": {},
      "source": [
        "Calculate missing values in each column\n"
      ]
    },
    {
      "cell_type": "code",
      "execution_count": 7,
      "metadata": {
        "colab": {
          "base_uri": "https://localhost:8080/"
        },
        "id": "7yHv5NEF8RXC",
        "outputId": "6f13f9a7-bf40-4f9e-c752-d3d6407c6984"
      },
      "outputs": [
        {
          "name": "stdout",
          "output_type": "stream",
          "text": [
            "total NaN at each column in dataframe: name       1\n",
            "age        6\n",
            "city       2\n",
            "company    2\n",
            "dtype: int64\n"
          ]
        }
      ],
      "source": [
        "print(\"total NaN at each column in dataframe:\",df.isnull().sum())"
      ]
    },
    {
      "cell_type": "markdown",
      "metadata": {},
      "source": [
        "\n",
        "Calculate total missing values in whole dataframe"
      ]
    },
    {
      "cell_type": "code",
      "execution_count": 29,
      "metadata": {},
      "outputs": [
        {
          "name": "stdout",
          "output_type": "stream",
          "text": [
            "13\n"
          ]
        }
      ],
      "source": [
        "print(df.isnull().sum().sum())"
      ]
    },
    {
      "cell_type": "markdown",
      "metadata": {},
      "source": [
        "Add a new row to dataframe"
      ]
    },
    {
      "cell_type": "code",
      "execution_count": 8,
      "metadata": {
        "id": "MQtG7fJT8UHz"
      },
      "outputs": [],
      "source": [
        "df.loc[len(df.index)]=['Dharmik',20,'Mehsana','capegemini']"
      ]
    },
    {
      "cell_type": "code",
      "execution_count": 9,
      "metadata": {
        "colab": {
          "base_uri": "https://localhost:8080/",
          "height": 426
        },
        "id": "jw5rCw_l8kWs",
        "outputId": "8ab65b10-2ec7-4ae3-e877-d0b5cd0eaf10"
      },
      "outputs": [
        {
          "data": {
            "text/html": [
              "<div>\n",
              "<style scoped>\n",
              "    .dataframe tbody tr th:only-of-type {\n",
              "        vertical-align: middle;\n",
              "    }\n",
              "\n",
              "    .dataframe tbody tr th {\n",
              "        vertical-align: top;\n",
              "    }\n",
              "\n",
              "    .dataframe thead th {\n",
              "        text-align: right;\n",
              "    }\n",
              "</style>\n",
              "<table border=\"1\" class=\"dataframe\">\n",
              "  <thead>\n",
              "    <tr style=\"text-align: right;\">\n",
              "      <th></th>\n",
              "      <th>name</th>\n",
              "      <th>age</th>\n",
              "      <th>city</th>\n",
              "      <th>company</th>\n",
              "    </tr>\n",
              "  </thead>\n",
              "  <tbody>\n",
              "    <tr>\n",
              "      <th>a</th>\n",
              "      <td>Prakshil</td>\n",
              "      <td>22.0</td>\n",
              "      <td>Ahmedabad</td>\n",
              "      <td>Adani</td>\n",
              "    </tr>\n",
              "    <tr>\n",
              "      <th>b</th>\n",
              "      <td>Dharmik</td>\n",
              "      <td>NaN</td>\n",
              "      <td>Ahmedabad</td>\n",
              "      <td>Adani</td>\n",
              "    </tr>\n",
              "    <tr>\n",
              "      <th>c</th>\n",
              "      <td>Jay</td>\n",
              "      <td>21.0</td>\n",
              "      <td>Surat</td>\n",
              "      <td>Reliance</td>\n",
              "    </tr>\n",
              "    <tr>\n",
              "      <th>d</th>\n",
              "      <td>Dhruv</td>\n",
              "      <td>NaN</td>\n",
              "      <td>Vadodara</td>\n",
              "      <td>NaN</td>\n",
              "    </tr>\n",
              "    <tr>\n",
              "      <th>e</th>\n",
              "      <td>Rahul</td>\n",
              "      <td>23.0</td>\n",
              "      <td>NaN</td>\n",
              "      <td>Tata</td>\n",
              "    </tr>\n",
              "    <tr>\n",
              "      <th>f</th>\n",
              "      <td>Amit</td>\n",
              "      <td>25.0</td>\n",
              "      <td>Pune</td>\n",
              "      <td>Infosys</td>\n",
              "    </tr>\n",
              "    <tr>\n",
              "      <th>g</th>\n",
              "      <td>Bhavin</td>\n",
              "      <td>NaN</td>\n",
              "      <td>Bangalore</td>\n",
              "      <td>Wipro</td>\n",
              "    </tr>\n",
              "    <tr>\n",
              "      <th>h</th>\n",
              "      <td>Chirag</td>\n",
              "      <td>20.0</td>\n",
              "      <td>Mumbai</td>\n",
              "      <td>NaN</td>\n",
              "    </tr>\n",
              "    <tr>\n",
              "      <th>i</th>\n",
              "      <td>namra</td>\n",
              "      <td>NaN</td>\n",
              "      <td>London</td>\n",
              "      <td>Microsoft</td>\n",
              "    </tr>\n",
              "    <tr>\n",
              "      <th>j</th>\n",
              "      <td>vatsal</td>\n",
              "      <td>NaN</td>\n",
              "      <td>Sydney</td>\n",
              "      <td>Atlassian</td>\n",
              "    </tr>\n",
              "    <tr>\n",
              "      <th>k</th>\n",
              "      <td>NaN</td>\n",
              "      <td>NaN</td>\n",
              "      <td>NaN</td>\n",
              "      <td>yahoo</td>\n",
              "    </tr>\n",
              "    <tr>\n",
              "      <th>11</th>\n",
              "      <td>Dharmik</td>\n",
              "      <td>20.0</td>\n",
              "      <td>Mehsana</td>\n",
              "      <td>capegemini</td>\n",
              "    </tr>\n",
              "  </tbody>\n",
              "</table>\n",
              "</div>"
            ],
            "text/plain": [
              "        name   age       city     company\n",
              "a   Prakshil  22.0  Ahmedabad       Adani\n",
              "b    Dharmik   NaN  Ahmedabad       Adani\n",
              "c        Jay  21.0      Surat    Reliance\n",
              "d      Dhruv   NaN   Vadodara         NaN\n",
              "e      Rahul  23.0        NaN        Tata\n",
              "f       Amit  25.0       Pune     Infosys\n",
              "g     Bhavin   NaN  Bangalore       Wipro\n",
              "h     Chirag  20.0     Mumbai         NaN\n",
              "i      namra   NaN     London   Microsoft\n",
              "j     vatsal   NaN     Sydney   Atlassian\n",
              "k        NaN   NaN        NaN       yahoo\n",
              "11   Dharmik  20.0    Mehsana  capegemini"
            ]
          },
          "execution_count": 9,
          "metadata": {},
          "output_type": "execute_result"
        }
      ],
      "source": [
        "df"
      ]
    },
    {
      "cell_type": "markdown",
      "metadata": {},
      "source": [
        "Calculate missing values in each row\n"
      ]
    },
    {
      "cell_type": "code",
      "execution_count": 10,
      "metadata": {
        "colab": {
          "base_uri": "https://localhost:8080/"
        },
        "id": "ZDww41RK88pd",
        "outputId": "5d9a8872-5727-4c68-8efe-e27aaff52098"
      },
      "outputs": [
        {
          "name": "stdout",
          "output_type": "stream",
          "text": [
            "total NaN in row 1 : 0\n",
            "total NaN in row 2 : 1\n",
            "total NaN in row 3 : 0\n",
            "total NaN in row 4 : 2\n",
            "total NaN in row 5 : 1\n",
            "total NaN in row 6 : 0\n",
            "total NaN in row 7 : 1\n",
            "total NaN in row 8 : 1\n",
            "total NaN in row 9 : 1\n",
            "total NaN in row 10 : 1\n",
            "total NaN in row 11 : 3\n",
            "total NaN in row 12 : 0\n"
          ]
        }
      ],
      "source": [
        "for i in range(len(df.index)):\n",
        "  print(\"total NaN in row\",i+1,\":\",df.iloc[i].isnull().sum())"
      ]
    },
    {
      "cell_type": "markdown",
      "metadata": {},
      "source": [
        "Check whether any row in dataframe is duplicate or not"
      ]
    },
    {
      "cell_type": "code",
      "execution_count": 30,
      "metadata": {},
      "outputs": [],
      "source": [
        "df.loc[len(df.index)]=['Dharmik',20,'Mehsana','capegemini']"
      ]
    },
    {
      "cell_type": "code",
      "execution_count": 31,
      "metadata": {
        "colab": {
          "base_uri": "https://localhost:8080/"
        },
        "id": "x9DgRNU09V9V",
        "outputId": "c029ab4a-f501-4d5c-bbe8-99e638703de9"
      },
      "outputs": [
        {
          "name": "stdout",
          "output_type": "stream",
          "text": [
            "a     False\n",
            "b     False\n",
            "c     False\n",
            "d     False\n",
            "e     False\n",
            "f     False\n",
            "g     False\n",
            "h     False\n",
            "i     False\n",
            "j     False\n",
            "k     False\n",
            "11    False\n",
            "12    False\n",
            "13     True\n",
            "dtype: bool\n"
          ]
        }
      ],
      "source": [
        "df.duplicated\n",
        "print(df.duplicated())"
      ]
    },
    {
      "cell_type": "markdown",
      "metadata": {},
      "source": [
        "Remove the duplicated rows"
      ]
    },
    {
      "cell_type": "code",
      "execution_count": 32,
      "metadata": {},
      "outputs": [
        {
          "name": "stdout",
          "output_type": "stream",
          "text": [
            "        name   age       city     company\n",
            "a   Prakshil  22.0  Ahmedabad       Adani\n",
            "b    Dharmik   NaN  Ahmedabad       Adani\n",
            "c        Jay  21.0      Surat    Reliance\n",
            "d      Dhruv   NaN   Vadodara         TCS\n",
            "e      Rahul  23.0        NaN        Tata\n",
            "f       Amit  25.0       Pune     Infosys\n",
            "g     Bhavin   NaN  Bangalore       Wipro\n",
            "h     Chirag  20.0     Mumbai         TCS\n",
            "i      namra   NaN     London   Microsoft\n",
            "j     vatsal   NaN     Sydney   Atlassian\n",
            "k        NaN   NaN        NaN       yahoo\n",
            "11   Dharmik  20.0    Mehsana  capegemini\n",
            "12       NaN   NaN        NaN         NaN\n"
          ]
        }
      ],
      "source": [
        "df = df.drop_duplicates()\n",
        "print(df)"
      ]
    },
    {
      "cell_type": "code",
      "execution_count": 12,
      "metadata": {
        "colab": {
          "base_uri": "https://localhost:8080/",
          "height": 206
        },
        "id": "qzYPw73r9jZK",
        "outputId": "1a4fb125-8700-408a-ec0b-3c8eace1652f"
      },
      "outputs": [
        {
          "data": {
            "text/html": [
              "<div>\n",
              "<style scoped>\n",
              "    .dataframe tbody tr th:only-of-type {\n",
              "        vertical-align: middle;\n",
              "    }\n",
              "\n",
              "    .dataframe tbody tr th {\n",
              "        vertical-align: top;\n",
              "    }\n",
              "\n",
              "    .dataframe thead th {\n",
              "        text-align: right;\n",
              "    }\n",
              "</style>\n",
              "<table border=\"1\" class=\"dataframe\">\n",
              "  <thead>\n",
              "    <tr style=\"text-align: right;\">\n",
              "      <th></th>\n",
              "      <th>name</th>\n",
              "      <th>age</th>\n",
              "      <th>city</th>\n",
              "      <th>company</th>\n",
              "    </tr>\n",
              "  </thead>\n",
              "  <tbody>\n",
              "    <tr>\n",
              "      <th>a</th>\n",
              "      <td>Prakshil</td>\n",
              "      <td>22.0</td>\n",
              "      <td>Ahmedabad</td>\n",
              "      <td>Adani</td>\n",
              "    </tr>\n",
              "    <tr>\n",
              "      <th>b</th>\n",
              "      <td>Dharmik</td>\n",
              "      <td>NaN</td>\n",
              "      <td>Ahmedabad</td>\n",
              "      <td>Adani</td>\n",
              "    </tr>\n",
              "    <tr>\n",
              "      <th>c</th>\n",
              "      <td>Jay</td>\n",
              "      <td>21.0</td>\n",
              "      <td>Surat</td>\n",
              "      <td>Reliance</td>\n",
              "    </tr>\n",
              "    <tr>\n",
              "      <th>d</th>\n",
              "      <td>Dhruv</td>\n",
              "      <td>NaN</td>\n",
              "      <td>Vadodara</td>\n",
              "      <td>NaN</td>\n",
              "    </tr>\n",
              "    <tr>\n",
              "      <th>e</th>\n",
              "      <td>Rahul</td>\n",
              "      <td>23.0</td>\n",
              "      <td>NaN</td>\n",
              "      <td>Tata</td>\n",
              "    </tr>\n",
              "  </tbody>\n",
              "</table>\n",
              "</div>"
            ],
            "text/plain": [
              "       name   age       city   company\n",
              "a  Prakshil  22.0  Ahmedabad     Adani\n",
              "b   Dharmik   NaN  Ahmedabad     Adani\n",
              "c       Jay  21.0      Surat  Reliance\n",
              "d     Dhruv   NaN   Vadodara       NaN\n",
              "e     Rahul  23.0        NaN      Tata"
            ]
          },
          "execution_count": 12,
          "metadata": {},
          "output_type": "execute_result"
        }
      ],
      "source": [
        "df[0:5]"
      ]
    },
    {
      "cell_type": "code",
      "execution_count": 13,
      "metadata": {
        "colab": {
          "base_uri": "https://localhost:8080/",
          "height": 426
        },
        "id": "BHe4QMQR-ZDl",
        "outputId": "f4b2c771-628b-46bd-c6ca-11b6b362fdc8"
      },
      "outputs": [
        {
          "data": {
            "text/html": [
              "<div>\n",
              "<style scoped>\n",
              "    .dataframe tbody tr th:only-of-type {\n",
              "        vertical-align: middle;\n",
              "    }\n",
              "\n",
              "    .dataframe tbody tr th {\n",
              "        vertical-align: top;\n",
              "    }\n",
              "\n",
              "    .dataframe thead th {\n",
              "        text-align: right;\n",
              "    }\n",
              "</style>\n",
              "<table border=\"1\" class=\"dataframe\">\n",
              "  <thead>\n",
              "    <tr style=\"text-align: right;\">\n",
              "      <th></th>\n",
              "      <th>name</th>\n",
              "      <th>age</th>\n",
              "      <th>city</th>\n",
              "      <th>company</th>\n",
              "    </tr>\n",
              "  </thead>\n",
              "  <tbody>\n",
              "    <tr>\n",
              "      <th>a</th>\n",
              "      <td>Prakshil</td>\n",
              "      <td>22.0</td>\n",
              "      <td>Ahmedabad</td>\n",
              "      <td>Adani</td>\n",
              "    </tr>\n",
              "    <tr>\n",
              "      <th>b</th>\n",
              "      <td>Dharmik</td>\n",
              "      <td>0.0</td>\n",
              "      <td>Ahmedabad</td>\n",
              "      <td>Adani</td>\n",
              "    </tr>\n",
              "    <tr>\n",
              "      <th>c</th>\n",
              "      <td>Jay</td>\n",
              "      <td>21.0</td>\n",
              "      <td>Surat</td>\n",
              "      <td>Reliance</td>\n",
              "    </tr>\n",
              "    <tr>\n",
              "      <th>d</th>\n",
              "      <td>Dhruv</td>\n",
              "      <td>0.0</td>\n",
              "      <td>Vadodara</td>\n",
              "      <td>0</td>\n",
              "    </tr>\n",
              "    <tr>\n",
              "      <th>e</th>\n",
              "      <td>Rahul</td>\n",
              "      <td>23.0</td>\n",
              "      <td>0</td>\n",
              "      <td>Tata</td>\n",
              "    </tr>\n",
              "    <tr>\n",
              "      <th>f</th>\n",
              "      <td>Amit</td>\n",
              "      <td>25.0</td>\n",
              "      <td>Pune</td>\n",
              "      <td>Infosys</td>\n",
              "    </tr>\n",
              "    <tr>\n",
              "      <th>g</th>\n",
              "      <td>Bhavin</td>\n",
              "      <td>0.0</td>\n",
              "      <td>Bangalore</td>\n",
              "      <td>Wipro</td>\n",
              "    </tr>\n",
              "    <tr>\n",
              "      <th>h</th>\n",
              "      <td>Chirag</td>\n",
              "      <td>20.0</td>\n",
              "      <td>Mumbai</td>\n",
              "      <td>0</td>\n",
              "    </tr>\n",
              "    <tr>\n",
              "      <th>i</th>\n",
              "      <td>namra</td>\n",
              "      <td>0.0</td>\n",
              "      <td>London</td>\n",
              "      <td>Microsoft</td>\n",
              "    </tr>\n",
              "    <tr>\n",
              "      <th>j</th>\n",
              "      <td>vatsal</td>\n",
              "      <td>0.0</td>\n",
              "      <td>Sydney</td>\n",
              "      <td>Atlassian</td>\n",
              "    </tr>\n",
              "    <tr>\n",
              "      <th>k</th>\n",
              "      <td>0</td>\n",
              "      <td>0.0</td>\n",
              "      <td>0</td>\n",
              "      <td>yahoo</td>\n",
              "    </tr>\n",
              "    <tr>\n",
              "      <th>11</th>\n",
              "      <td>Dharmik</td>\n",
              "      <td>20.0</td>\n",
              "      <td>Mehsana</td>\n",
              "      <td>capegemini</td>\n",
              "    </tr>\n",
              "  </tbody>\n",
              "</table>\n",
              "</div>"
            ],
            "text/plain": [
              "        name   age       city     company\n",
              "a   Prakshil  22.0  Ahmedabad       Adani\n",
              "b    Dharmik   0.0  Ahmedabad       Adani\n",
              "c        Jay  21.0      Surat    Reliance\n",
              "d      Dhruv   0.0   Vadodara           0\n",
              "e      Rahul  23.0          0        Tata\n",
              "f       Amit  25.0       Pune     Infosys\n",
              "g     Bhavin   0.0  Bangalore       Wipro\n",
              "h     Chirag  20.0     Mumbai           0\n",
              "i      namra   0.0     London   Microsoft\n",
              "j     vatsal   0.0     Sydney   Atlassian\n",
              "k          0   0.0          0       yahoo\n",
              "11   Dharmik  20.0    Mehsana  capegemini"
            ]
          },
          "execution_count": 13,
          "metadata": {},
          "output_type": "execute_result"
        }
      ],
      "source": [
        "df.fillna(0)"
      ]
    },
    {
      "cell_type": "code",
      "execution_count": 14,
      "metadata": {
        "colab": {
          "base_uri": "https://localhost:8080/"
        },
        "id": "qE5mjhIy-3pt",
        "outputId": "0c9e740d-82b1-424b-d5c0-2c5325147332"
      },
      "outputs": [],
      "source": [
        "df['company'].fillna('TCS',inplace=True)"
      ]
    },
    {
      "cell_type": "code",
      "execution_count": 15,
      "metadata": {
        "colab": {
          "base_uri": "https://localhost:8080/",
          "height": 426
        },
        "id": "sqPrnBiQ--cr",
        "outputId": "17d90028-a258-46bc-ff47-8a1917a908fc"
      },
      "outputs": [
        {
          "data": {
            "text/html": [
              "<div>\n",
              "<style scoped>\n",
              "    .dataframe tbody tr th:only-of-type {\n",
              "        vertical-align: middle;\n",
              "    }\n",
              "\n",
              "    .dataframe tbody tr th {\n",
              "        vertical-align: top;\n",
              "    }\n",
              "\n",
              "    .dataframe thead th {\n",
              "        text-align: right;\n",
              "    }\n",
              "</style>\n",
              "<table border=\"1\" class=\"dataframe\">\n",
              "  <thead>\n",
              "    <tr style=\"text-align: right;\">\n",
              "      <th></th>\n",
              "      <th>name</th>\n",
              "      <th>age</th>\n",
              "      <th>city</th>\n",
              "      <th>company</th>\n",
              "    </tr>\n",
              "  </thead>\n",
              "  <tbody>\n",
              "    <tr>\n",
              "      <th>a</th>\n",
              "      <td>Prakshil</td>\n",
              "      <td>22.0</td>\n",
              "      <td>Ahmedabad</td>\n",
              "      <td>Adani</td>\n",
              "    </tr>\n",
              "    <tr>\n",
              "      <th>b</th>\n",
              "      <td>Dharmik</td>\n",
              "      <td>NaN</td>\n",
              "      <td>Ahmedabad</td>\n",
              "      <td>Adani</td>\n",
              "    </tr>\n",
              "    <tr>\n",
              "      <th>c</th>\n",
              "      <td>Jay</td>\n",
              "      <td>21.0</td>\n",
              "      <td>Surat</td>\n",
              "      <td>Reliance</td>\n",
              "    </tr>\n",
              "    <tr>\n",
              "      <th>d</th>\n",
              "      <td>Dhruv</td>\n",
              "      <td>NaN</td>\n",
              "      <td>Vadodara</td>\n",
              "      <td>TCS</td>\n",
              "    </tr>\n",
              "    <tr>\n",
              "      <th>e</th>\n",
              "      <td>Rahul</td>\n",
              "      <td>23.0</td>\n",
              "      <td>NaN</td>\n",
              "      <td>Tata</td>\n",
              "    </tr>\n",
              "    <tr>\n",
              "      <th>f</th>\n",
              "      <td>Amit</td>\n",
              "      <td>25.0</td>\n",
              "      <td>Pune</td>\n",
              "      <td>Infosys</td>\n",
              "    </tr>\n",
              "    <tr>\n",
              "      <th>g</th>\n",
              "      <td>Bhavin</td>\n",
              "      <td>NaN</td>\n",
              "      <td>Bangalore</td>\n",
              "      <td>Wipro</td>\n",
              "    </tr>\n",
              "    <tr>\n",
              "      <th>h</th>\n",
              "      <td>Chirag</td>\n",
              "      <td>20.0</td>\n",
              "      <td>Mumbai</td>\n",
              "      <td>TCS</td>\n",
              "    </tr>\n",
              "    <tr>\n",
              "      <th>i</th>\n",
              "      <td>namra</td>\n",
              "      <td>NaN</td>\n",
              "      <td>London</td>\n",
              "      <td>Microsoft</td>\n",
              "    </tr>\n",
              "    <tr>\n",
              "      <th>j</th>\n",
              "      <td>vatsal</td>\n",
              "      <td>NaN</td>\n",
              "      <td>Sydney</td>\n",
              "      <td>Atlassian</td>\n",
              "    </tr>\n",
              "    <tr>\n",
              "      <th>k</th>\n",
              "      <td>NaN</td>\n",
              "      <td>NaN</td>\n",
              "      <td>NaN</td>\n",
              "      <td>yahoo</td>\n",
              "    </tr>\n",
              "    <tr>\n",
              "      <th>11</th>\n",
              "      <td>Dharmik</td>\n",
              "      <td>20.0</td>\n",
              "      <td>Mehsana</td>\n",
              "      <td>capegemini</td>\n",
              "    </tr>\n",
              "  </tbody>\n",
              "</table>\n",
              "</div>"
            ],
            "text/plain": [
              "        name   age       city     company\n",
              "a   Prakshil  22.0  Ahmedabad       Adani\n",
              "b    Dharmik   NaN  Ahmedabad       Adani\n",
              "c        Jay  21.0      Surat    Reliance\n",
              "d      Dhruv   NaN   Vadodara         TCS\n",
              "e      Rahul  23.0        NaN        Tata\n",
              "f       Amit  25.0       Pune     Infosys\n",
              "g     Bhavin   NaN  Bangalore       Wipro\n",
              "h     Chirag  20.0     Mumbai         TCS\n",
              "i      namra   NaN     London   Microsoft\n",
              "j     vatsal   NaN     Sydney   Atlassian\n",
              "k        NaN   NaN        NaN       yahoo\n",
              "11   Dharmik  20.0    Mehsana  capegemini"
            ]
          },
          "execution_count": 15,
          "metadata": {},
          "output_type": "execute_result"
        }
      ],
      "source": [
        "df"
      ]
    },
    {
      "cell_type": "markdown",
      "metadata": {},
      "source": [
        "Fill missing values using ffill()"
      ]
    },
    {
      "cell_type": "code",
      "execution_count": 16,
      "metadata": {
        "colab": {
          "base_uri": "https://localhost:8080/",
          "height": 460
        },
        "id": "chQp10ym_DbE",
        "outputId": "d87e4fd8-8025-464f-e740-2c19f3bcd10c"
      },
      "outputs": [
        {
          "name": "stderr",
          "output_type": "stream",
          "text": [
            "C:\\Users\\Prakshil\\AppData\\Local\\Temp\\ipykernel_13144\\196241153.py:1: FutureWarning: DataFrame.fillna with 'method' is deprecated and will raise in a future version. Use obj.ffill() or obj.bfill() instead.\n",
            "  df.fillna(method='pad')\n"
          ]
        },
        {
          "data": {
            "text/html": [
              "<div>\n",
              "<style scoped>\n",
              "    .dataframe tbody tr th:only-of-type {\n",
              "        vertical-align: middle;\n",
              "    }\n",
              "\n",
              "    .dataframe tbody tr th {\n",
              "        vertical-align: top;\n",
              "    }\n",
              "\n",
              "    .dataframe thead th {\n",
              "        text-align: right;\n",
              "    }\n",
              "</style>\n",
              "<table border=\"1\" class=\"dataframe\">\n",
              "  <thead>\n",
              "    <tr style=\"text-align: right;\">\n",
              "      <th></th>\n",
              "      <th>name</th>\n",
              "      <th>age</th>\n",
              "      <th>city</th>\n",
              "      <th>company</th>\n",
              "    </tr>\n",
              "  </thead>\n",
              "  <tbody>\n",
              "    <tr>\n",
              "      <th>a</th>\n",
              "      <td>Prakshil</td>\n",
              "      <td>22.0</td>\n",
              "      <td>Ahmedabad</td>\n",
              "      <td>Adani</td>\n",
              "    </tr>\n",
              "    <tr>\n",
              "      <th>b</th>\n",
              "      <td>Dharmik</td>\n",
              "      <td>22.0</td>\n",
              "      <td>Ahmedabad</td>\n",
              "      <td>Adani</td>\n",
              "    </tr>\n",
              "    <tr>\n",
              "      <th>c</th>\n",
              "      <td>Jay</td>\n",
              "      <td>21.0</td>\n",
              "      <td>Surat</td>\n",
              "      <td>Reliance</td>\n",
              "    </tr>\n",
              "    <tr>\n",
              "      <th>d</th>\n",
              "      <td>Dhruv</td>\n",
              "      <td>21.0</td>\n",
              "      <td>Vadodara</td>\n",
              "      <td>TCS</td>\n",
              "    </tr>\n",
              "    <tr>\n",
              "      <th>e</th>\n",
              "      <td>Rahul</td>\n",
              "      <td>23.0</td>\n",
              "      <td>Vadodara</td>\n",
              "      <td>Tata</td>\n",
              "    </tr>\n",
              "    <tr>\n",
              "      <th>f</th>\n",
              "      <td>Amit</td>\n",
              "      <td>25.0</td>\n",
              "      <td>Pune</td>\n",
              "      <td>Infosys</td>\n",
              "    </tr>\n",
              "    <tr>\n",
              "      <th>g</th>\n",
              "      <td>Bhavin</td>\n",
              "      <td>25.0</td>\n",
              "      <td>Bangalore</td>\n",
              "      <td>Wipro</td>\n",
              "    </tr>\n",
              "    <tr>\n",
              "      <th>h</th>\n",
              "      <td>Chirag</td>\n",
              "      <td>20.0</td>\n",
              "      <td>Mumbai</td>\n",
              "      <td>TCS</td>\n",
              "    </tr>\n",
              "    <tr>\n",
              "      <th>i</th>\n",
              "      <td>namra</td>\n",
              "      <td>20.0</td>\n",
              "      <td>London</td>\n",
              "      <td>Microsoft</td>\n",
              "    </tr>\n",
              "    <tr>\n",
              "      <th>j</th>\n",
              "      <td>vatsal</td>\n",
              "      <td>20.0</td>\n",
              "      <td>Sydney</td>\n",
              "      <td>Atlassian</td>\n",
              "    </tr>\n",
              "    <tr>\n",
              "      <th>k</th>\n",
              "      <td>vatsal</td>\n",
              "      <td>20.0</td>\n",
              "      <td>Sydney</td>\n",
              "      <td>yahoo</td>\n",
              "    </tr>\n",
              "    <tr>\n",
              "      <th>11</th>\n",
              "      <td>Dharmik</td>\n",
              "      <td>20.0</td>\n",
              "      <td>Mehsana</td>\n",
              "      <td>capegemini</td>\n",
              "    </tr>\n",
              "  </tbody>\n",
              "</table>\n",
              "</div>"
            ],
            "text/plain": [
              "        name   age       city     company\n",
              "a   Prakshil  22.0  Ahmedabad       Adani\n",
              "b    Dharmik  22.0  Ahmedabad       Adani\n",
              "c        Jay  21.0      Surat    Reliance\n",
              "d      Dhruv  21.0   Vadodara         TCS\n",
              "e      Rahul  23.0   Vadodara        Tata\n",
              "f       Amit  25.0       Pune     Infosys\n",
              "g     Bhavin  25.0  Bangalore       Wipro\n",
              "h     Chirag  20.0     Mumbai         TCS\n",
              "i      namra  20.0     London   Microsoft\n",
              "j     vatsal  20.0     Sydney   Atlassian\n",
              "k     vatsal  20.0     Sydney       yahoo\n",
              "11   Dharmik  20.0    Mehsana  capegemini"
            ]
          },
          "execution_count": 16,
          "metadata": {},
          "output_type": "execute_result"
        }
      ],
      "source": [
        "df.fillna(method='pad')"
      ]
    },
    {
      "cell_type": "markdown",
      "metadata": {},
      "source": [
        "Fill missing values using bfill()"
      ]
    },
    {
      "cell_type": "code",
      "execution_count": 17,
      "metadata": {
        "colab": {
          "base_uri": "https://localhost:8080/",
          "height": 460
        },
        "id": "v91XayQD_P88",
        "outputId": "3bf08708-2c5b-4073-f665-f50e3a4e1bee"
      },
      "outputs": [
        {
          "name": "stderr",
          "output_type": "stream",
          "text": [
            "C:\\Users\\Prakshil\\AppData\\Local\\Temp\\ipykernel_13144\\2831856154.py:1: FutureWarning: DataFrame.fillna with 'method' is deprecated and will raise in a future version. Use obj.ffill() or obj.bfill() instead.\n",
            "  df.fillna(method='bfill')\n"
          ]
        },
        {
          "data": {
            "text/html": [
              "<div>\n",
              "<style scoped>\n",
              "    .dataframe tbody tr th:only-of-type {\n",
              "        vertical-align: middle;\n",
              "    }\n",
              "\n",
              "    .dataframe tbody tr th {\n",
              "        vertical-align: top;\n",
              "    }\n",
              "\n",
              "    .dataframe thead th {\n",
              "        text-align: right;\n",
              "    }\n",
              "</style>\n",
              "<table border=\"1\" class=\"dataframe\">\n",
              "  <thead>\n",
              "    <tr style=\"text-align: right;\">\n",
              "      <th></th>\n",
              "      <th>name</th>\n",
              "      <th>age</th>\n",
              "      <th>city</th>\n",
              "      <th>company</th>\n",
              "    </tr>\n",
              "  </thead>\n",
              "  <tbody>\n",
              "    <tr>\n",
              "      <th>a</th>\n",
              "      <td>Prakshil</td>\n",
              "      <td>22.0</td>\n",
              "      <td>Ahmedabad</td>\n",
              "      <td>Adani</td>\n",
              "    </tr>\n",
              "    <tr>\n",
              "      <th>b</th>\n",
              "      <td>Dharmik</td>\n",
              "      <td>21.0</td>\n",
              "      <td>Ahmedabad</td>\n",
              "      <td>Adani</td>\n",
              "    </tr>\n",
              "    <tr>\n",
              "      <th>c</th>\n",
              "      <td>Jay</td>\n",
              "      <td>21.0</td>\n",
              "      <td>Surat</td>\n",
              "      <td>Reliance</td>\n",
              "    </tr>\n",
              "    <tr>\n",
              "      <th>d</th>\n",
              "      <td>Dhruv</td>\n",
              "      <td>23.0</td>\n",
              "      <td>Vadodara</td>\n",
              "      <td>TCS</td>\n",
              "    </tr>\n",
              "    <tr>\n",
              "      <th>e</th>\n",
              "      <td>Rahul</td>\n",
              "      <td>23.0</td>\n",
              "      <td>Pune</td>\n",
              "      <td>Tata</td>\n",
              "    </tr>\n",
              "    <tr>\n",
              "      <th>f</th>\n",
              "      <td>Amit</td>\n",
              "      <td>25.0</td>\n",
              "      <td>Pune</td>\n",
              "      <td>Infosys</td>\n",
              "    </tr>\n",
              "    <tr>\n",
              "      <th>g</th>\n",
              "      <td>Bhavin</td>\n",
              "      <td>20.0</td>\n",
              "      <td>Bangalore</td>\n",
              "      <td>Wipro</td>\n",
              "    </tr>\n",
              "    <tr>\n",
              "      <th>h</th>\n",
              "      <td>Chirag</td>\n",
              "      <td>20.0</td>\n",
              "      <td>Mumbai</td>\n",
              "      <td>TCS</td>\n",
              "    </tr>\n",
              "    <tr>\n",
              "      <th>i</th>\n",
              "      <td>namra</td>\n",
              "      <td>20.0</td>\n",
              "      <td>London</td>\n",
              "      <td>Microsoft</td>\n",
              "    </tr>\n",
              "    <tr>\n",
              "      <th>j</th>\n",
              "      <td>vatsal</td>\n",
              "      <td>20.0</td>\n",
              "      <td>Sydney</td>\n",
              "      <td>Atlassian</td>\n",
              "    </tr>\n",
              "    <tr>\n",
              "      <th>k</th>\n",
              "      <td>Dharmik</td>\n",
              "      <td>20.0</td>\n",
              "      <td>Mehsana</td>\n",
              "      <td>yahoo</td>\n",
              "    </tr>\n",
              "    <tr>\n",
              "      <th>11</th>\n",
              "      <td>Dharmik</td>\n",
              "      <td>20.0</td>\n",
              "      <td>Mehsana</td>\n",
              "      <td>capegemini</td>\n",
              "    </tr>\n",
              "  </tbody>\n",
              "</table>\n",
              "</div>"
            ],
            "text/plain": [
              "        name   age       city     company\n",
              "a   Prakshil  22.0  Ahmedabad       Adani\n",
              "b    Dharmik  21.0  Ahmedabad       Adani\n",
              "c        Jay  21.0      Surat    Reliance\n",
              "d      Dhruv  23.0   Vadodara         TCS\n",
              "e      Rahul  23.0       Pune        Tata\n",
              "f       Amit  25.0       Pune     Infosys\n",
              "g     Bhavin  20.0  Bangalore       Wipro\n",
              "h     Chirag  20.0     Mumbai         TCS\n",
              "i      namra  20.0     London   Microsoft\n",
              "j     vatsal  20.0     Sydney   Atlassian\n",
              "k    Dharmik  20.0    Mehsana       yahoo\n",
              "11   Dharmik  20.0    Mehsana  capegemini"
            ]
          },
          "execution_count": 17,
          "metadata": {},
          "output_type": "execute_result"
        }
      ],
      "source": [
        "df.fillna(method='bfill')"
      ]
    },
    {
      "cell_type": "markdown",
      "metadata": {},
      "source": [
        "Drop the rows if there is no data in it"
      ]
    },
    {
      "cell_type": "code",
      "execution_count": 18,
      "metadata": {
        "id": "37egfjN6_Vx7"
      },
      "outputs": [],
      "source": [
        "df.loc[len(df.index)]=[np.nan,np.nan,np.nan,np.nan]"
      ]
    },
    {
      "cell_type": "code",
      "execution_count": 19,
      "metadata": {
        "colab": {
          "base_uri": "https://localhost:8080/",
          "height": 426
        },
        "id": "mDjujiH4_nkE",
        "outputId": "29781052-c75f-4cfa-a6a6-87ef4ce0d09e"
      },
      "outputs": [
        {
          "data": {
            "text/html": [
              "<div>\n",
              "<style scoped>\n",
              "    .dataframe tbody tr th:only-of-type {\n",
              "        vertical-align: middle;\n",
              "    }\n",
              "\n",
              "    .dataframe tbody tr th {\n",
              "        vertical-align: top;\n",
              "    }\n",
              "\n",
              "    .dataframe thead th {\n",
              "        text-align: right;\n",
              "    }\n",
              "</style>\n",
              "<table border=\"1\" class=\"dataframe\">\n",
              "  <thead>\n",
              "    <tr style=\"text-align: right;\">\n",
              "      <th></th>\n",
              "      <th>name</th>\n",
              "      <th>age</th>\n",
              "      <th>city</th>\n",
              "      <th>company</th>\n",
              "    </tr>\n",
              "  </thead>\n",
              "  <tbody>\n",
              "    <tr>\n",
              "      <th>a</th>\n",
              "      <td>Prakshil</td>\n",
              "      <td>22.0</td>\n",
              "      <td>Ahmedabad</td>\n",
              "      <td>Adani</td>\n",
              "    </tr>\n",
              "    <tr>\n",
              "      <th>b</th>\n",
              "      <td>Dharmik</td>\n",
              "      <td>NaN</td>\n",
              "      <td>Ahmedabad</td>\n",
              "      <td>Adani</td>\n",
              "    </tr>\n",
              "    <tr>\n",
              "      <th>c</th>\n",
              "      <td>Jay</td>\n",
              "      <td>21.0</td>\n",
              "      <td>Surat</td>\n",
              "      <td>Reliance</td>\n",
              "    </tr>\n",
              "    <tr>\n",
              "      <th>d</th>\n",
              "      <td>Dhruv</td>\n",
              "      <td>NaN</td>\n",
              "      <td>Vadodara</td>\n",
              "      <td>TCS</td>\n",
              "    </tr>\n",
              "    <tr>\n",
              "      <th>e</th>\n",
              "      <td>Rahul</td>\n",
              "      <td>23.0</td>\n",
              "      <td>NaN</td>\n",
              "      <td>Tata</td>\n",
              "    </tr>\n",
              "    <tr>\n",
              "      <th>f</th>\n",
              "      <td>Amit</td>\n",
              "      <td>25.0</td>\n",
              "      <td>Pune</td>\n",
              "      <td>Infosys</td>\n",
              "    </tr>\n",
              "    <tr>\n",
              "      <th>g</th>\n",
              "      <td>Bhavin</td>\n",
              "      <td>NaN</td>\n",
              "      <td>Bangalore</td>\n",
              "      <td>Wipro</td>\n",
              "    </tr>\n",
              "    <tr>\n",
              "      <th>h</th>\n",
              "      <td>Chirag</td>\n",
              "      <td>20.0</td>\n",
              "      <td>Mumbai</td>\n",
              "      <td>TCS</td>\n",
              "    </tr>\n",
              "    <tr>\n",
              "      <th>i</th>\n",
              "      <td>namra</td>\n",
              "      <td>NaN</td>\n",
              "      <td>London</td>\n",
              "      <td>Microsoft</td>\n",
              "    </tr>\n",
              "    <tr>\n",
              "      <th>j</th>\n",
              "      <td>vatsal</td>\n",
              "      <td>NaN</td>\n",
              "      <td>Sydney</td>\n",
              "      <td>Atlassian</td>\n",
              "    </tr>\n",
              "    <tr>\n",
              "      <th>k</th>\n",
              "      <td>NaN</td>\n",
              "      <td>NaN</td>\n",
              "      <td>NaN</td>\n",
              "      <td>yahoo</td>\n",
              "    </tr>\n",
              "    <tr>\n",
              "      <th>11</th>\n",
              "      <td>Dharmik</td>\n",
              "      <td>20.0</td>\n",
              "      <td>Mehsana</td>\n",
              "      <td>capegemini</td>\n",
              "    </tr>\n",
              "  </tbody>\n",
              "</table>\n",
              "</div>"
            ],
            "text/plain": [
              "        name   age       city     company\n",
              "a   Prakshil  22.0  Ahmedabad       Adani\n",
              "b    Dharmik   NaN  Ahmedabad       Adani\n",
              "c        Jay  21.0      Surat    Reliance\n",
              "d      Dhruv   NaN   Vadodara         TCS\n",
              "e      Rahul  23.0        NaN        Tata\n",
              "f       Amit  25.0       Pune     Infosys\n",
              "g     Bhavin   NaN  Bangalore       Wipro\n",
              "h     Chirag  20.0     Mumbai         TCS\n",
              "i      namra   NaN     London   Microsoft\n",
              "j     vatsal   NaN     Sydney   Atlassian\n",
              "k        NaN   NaN        NaN       yahoo\n",
              "11   Dharmik  20.0    Mehsana  capegemini"
            ]
          },
          "execution_count": 19,
          "metadata": {},
          "output_type": "execute_result"
        }
      ],
      "source": [
        "df.dropna(how='all')"
      ]
    },
    {
      "cell_type": "markdown",
      "metadata": {},
      "source": [
        "Drop the row if there is any nan value(s) in it"
      ]
    },
    {
      "cell_type": "code",
      "execution_count": 34,
      "metadata": {},
      "outputs": [
        {
          "name": "stdout",
          "output_type": "stream",
          "text": [
            "Empty DataFrame\n",
            "Columns: [A, B, c, D, E, F, G]\n",
            "Index: []\n"
          ]
        }
      ],
      "source": [
        "df = pd.DataFrame(data)\n",
        "df.loc[len(df)] = [np.nan] * len(df.columns)\n",
        "df.dropna(inplace=True)\n",
        "print(df)"
      ]
    },
    {
      "cell_type": "markdown",
      "metadata": {},
      "source": [
        "Find the mode and replace the nan values with it"
      ]
    },
    {
      "cell_type": "code",
      "execution_count": 26,
      "metadata": {},
      "outputs": [
        {
          "data": {
            "text/html": [
              "<div>\n",
              "<style scoped>\n",
              "    .dataframe tbody tr th:only-of-type {\n",
              "        vertical-align: middle;\n",
              "    }\n",
              "\n",
              "    .dataframe tbody tr th {\n",
              "        vertical-align: top;\n",
              "    }\n",
              "\n",
              "    .dataframe thead th {\n",
              "        text-align: right;\n",
              "    }\n",
              "</style>\n",
              "<table border=\"1\" class=\"dataframe\">\n",
              "  <thead>\n",
              "    <tr style=\"text-align: right;\">\n",
              "      <th></th>\n",
              "      <th>A</th>\n",
              "      <th>B</th>\n",
              "      <th>c</th>\n",
              "      <th>D</th>\n",
              "      <th>E</th>\n",
              "      <th>F</th>\n",
              "      <th>G</th>\n",
              "    </tr>\n",
              "  </thead>\n",
              "  <tbody>\n",
              "    <tr>\n",
              "      <th>0</th>\n",
              "      <td>24.0</td>\n",
              "      <td>34.0</td>\n",
              "      <td>2.0</td>\n",
              "      <td>NaN</td>\n",
              "      <td>12.0</td>\n",
              "      <td>82.0</td>\n",
              "      <td>87</td>\n",
              "    </tr>\n",
              "    <tr>\n",
              "      <th>1</th>\n",
              "      <td>90.0</td>\n",
              "      <td>93.0</td>\n",
              "      <td>45.0</td>\n",
              "      <td>9.0</td>\n",
              "      <td>NaN</td>\n",
              "      <td>82.0</td>\n",
              "      <td>33</td>\n",
              "    </tr>\n",
              "    <tr>\n",
              "      <th>2</th>\n",
              "      <td>78.0</td>\n",
              "      <td>NaN</td>\n",
              "      <td>78.0</td>\n",
              "      <td>71.0</td>\n",
              "      <td>88.0</td>\n",
              "      <td>82.0</td>\n",
              "      <td>37</td>\n",
              "    </tr>\n",
              "    <tr>\n",
              "      <th>3</th>\n",
              "      <td>NaN</td>\n",
              "      <td>56.0</td>\n",
              "      <td>NaN</td>\n",
              "      <td>NaN</td>\n",
              "      <td>59.0</td>\n",
              "      <td>59.0</td>\n",
              "      <td>67</td>\n",
              "    </tr>\n",
              "  </tbody>\n",
              "</table>\n",
              "</div>"
            ],
            "text/plain": [
              "      A     B     c     D     E     F   G\n",
              "0  24.0  34.0   2.0   NaN  12.0  82.0  87\n",
              "1  90.0  93.0  45.0   9.0   NaN  82.0  33\n",
              "2  78.0   NaN  78.0  71.0  88.0  82.0  37\n",
              "3   NaN  56.0   NaN   NaN  59.0  59.0  67"
            ]
          },
          "metadata": {},
          "output_type": "display_data"
        }
      ],
      "source": [
        "\n",
        "mode_F = dc['F'].mode()[0]\n",
        "dc['F'].fillna(mode_F, inplace=True)\n",
        "display(dc)"
      ]
    },
    {
      "cell_type": "markdown",
      "metadata": {},
      "source": [
        "Find the median and replace the nan values with it"
      ]
    },
    {
      "cell_type": "code",
      "execution_count": 27,
      "metadata": {},
      "outputs": [
        {
          "data": {
            "text/html": [
              "<div>\n",
              "<style scoped>\n",
              "    .dataframe tbody tr th:only-of-type {\n",
              "        vertical-align: middle;\n",
              "    }\n",
              "\n",
              "    .dataframe tbody tr th {\n",
              "        vertical-align: top;\n",
              "    }\n",
              "\n",
              "    .dataframe thead th {\n",
              "        text-align: right;\n",
              "    }\n",
              "</style>\n",
              "<table border=\"1\" class=\"dataframe\">\n",
              "  <thead>\n",
              "    <tr style=\"text-align: right;\">\n",
              "      <th></th>\n",
              "      <th>A</th>\n",
              "      <th>B</th>\n",
              "      <th>c</th>\n",
              "      <th>D</th>\n",
              "      <th>E</th>\n",
              "      <th>F</th>\n",
              "      <th>G</th>\n",
              "    </tr>\n",
              "  </thead>\n",
              "  <tbody>\n",
              "    <tr>\n",
              "      <th>0</th>\n",
              "      <td>24.0</td>\n",
              "      <td>34.0</td>\n",
              "      <td>2.0</td>\n",
              "      <td>40.0</td>\n",
              "      <td>12.0</td>\n",
              "      <td>82.0</td>\n",
              "      <td>87</td>\n",
              "    </tr>\n",
              "    <tr>\n",
              "      <th>1</th>\n",
              "      <td>90.0</td>\n",
              "      <td>93.0</td>\n",
              "      <td>45.0</td>\n",
              "      <td>9.0</td>\n",
              "      <td>NaN</td>\n",
              "      <td>82.0</td>\n",
              "      <td>33</td>\n",
              "    </tr>\n",
              "    <tr>\n",
              "      <th>2</th>\n",
              "      <td>78.0</td>\n",
              "      <td>NaN</td>\n",
              "      <td>78.0</td>\n",
              "      <td>71.0</td>\n",
              "      <td>88.0</td>\n",
              "      <td>82.0</td>\n",
              "      <td>37</td>\n",
              "    </tr>\n",
              "    <tr>\n",
              "      <th>3</th>\n",
              "      <td>NaN</td>\n",
              "      <td>56.0</td>\n",
              "      <td>NaN</td>\n",
              "      <td>40.0</td>\n",
              "      <td>59.0</td>\n",
              "      <td>59.0</td>\n",
              "      <td>67</td>\n",
              "    </tr>\n",
              "  </tbody>\n",
              "</table>\n",
              "</div>"
            ],
            "text/plain": [
              "      A     B     c     D     E     F   G\n",
              "0  24.0  34.0   2.0  40.0  12.0  82.0  87\n",
              "1  90.0  93.0  45.0   9.0   NaN  82.0  33\n",
              "2  78.0   NaN  78.0  71.0  88.0  82.0  37\n",
              "3   NaN  56.0   NaN  40.0  59.0  59.0  67"
            ]
          },
          "metadata": {},
          "output_type": "display_data"
        }
      ],
      "source": [
        "median_D = dc['D'].median()\n",
        "dc['D'].fillna(median_D, inplace=True)\n",
        "display(dc)"
      ]
    },
    {
      "cell_type": "markdown",
      "metadata": {},
      "source": [
        "Find the mean and replace the nan values with it"
      ]
    },
    {
      "cell_type": "code",
      "execution_count": 28,
      "metadata": {},
      "outputs": [
        {
          "data": {
            "text/html": [
              "<div>\n",
              "<style scoped>\n",
              "    .dataframe tbody tr th:only-of-type {\n",
              "        vertical-align: middle;\n",
              "    }\n",
              "\n",
              "    .dataframe tbody tr th {\n",
              "        vertical-align: top;\n",
              "    }\n",
              "\n",
              "    .dataframe thead th {\n",
              "        text-align: right;\n",
              "    }\n",
              "</style>\n",
              "<table border=\"1\" class=\"dataframe\">\n",
              "  <thead>\n",
              "    <tr style=\"text-align: right;\">\n",
              "      <th></th>\n",
              "      <th>A</th>\n",
              "      <th>B</th>\n",
              "      <th>c</th>\n",
              "      <th>D</th>\n",
              "      <th>E</th>\n",
              "      <th>F</th>\n",
              "      <th>G</th>\n",
              "    </tr>\n",
              "  </thead>\n",
              "  <tbody>\n",
              "    <tr>\n",
              "      <th>0</th>\n",
              "      <td>24.0</td>\n",
              "      <td>34.0</td>\n",
              "      <td>2.0</td>\n",
              "      <td>40.0</td>\n",
              "      <td>12.0</td>\n",
              "      <td>82.0</td>\n",
              "      <td>87</td>\n",
              "    </tr>\n",
              "    <tr>\n",
              "      <th>1</th>\n",
              "      <td>90.0</td>\n",
              "      <td>93.0</td>\n",
              "      <td>45.0</td>\n",
              "      <td>9.0</td>\n",
              "      <td>NaN</td>\n",
              "      <td>82.0</td>\n",
              "      <td>33</td>\n",
              "    </tr>\n",
              "    <tr>\n",
              "      <th>2</th>\n",
              "      <td>78.0</td>\n",
              "      <td>61.0</td>\n",
              "      <td>78.0</td>\n",
              "      <td>71.0</td>\n",
              "      <td>88.0</td>\n",
              "      <td>82.0</td>\n",
              "      <td>37</td>\n",
              "    </tr>\n",
              "    <tr>\n",
              "      <th>3</th>\n",
              "      <td>NaN</td>\n",
              "      <td>56.0</td>\n",
              "      <td>NaN</td>\n",
              "      <td>40.0</td>\n",
              "      <td>59.0</td>\n",
              "      <td>59.0</td>\n",
              "      <td>67</td>\n",
              "    </tr>\n",
              "  </tbody>\n",
              "</table>\n",
              "</div>"
            ],
            "text/plain": [
              "      A     B     c     D     E     F   G\n",
              "0  24.0  34.0   2.0  40.0  12.0  82.0  87\n",
              "1  90.0  93.0  45.0   9.0   NaN  82.0  33\n",
              "2  78.0  61.0  78.0  71.0  88.0  82.0  37\n",
              "3   NaN  56.0   NaN  40.0  59.0  59.0  67"
            ]
          },
          "metadata": {},
          "output_type": "display_data"
        }
      ],
      "source": [
        "mean_B = dc['B'].mean()\n",
        "dc['B'].fillna(mean_B, inplace=True)\n",
        "display(dc)"
      ]
    },
    {
      "cell_type": "code",
      "execution_count": 20,
      "metadata": {
        "id": "2LkbzQCO_r10"
      },
      "outputs": [],
      "source": [
        "import numpy as np\n",
        "import pandas as pd\n",
        "cat_data={\"A\":[\"csgo\",\"valorant\",\"GTA\",\"GTA\",\"PUBG\",np.nan,np.nan]}\n"
      ]
    },
    {
      "cell_type": "code",
      "execution_count": 21,
      "metadata": {
        "id": "45010df0"
      },
      "outputs": [],
      "source": [
        "dt = pd.DataFrame(cat_data)\n"
      ]
    },
    {
      "cell_type": "code",
      "execution_count": 22,
      "metadata": {
        "id": "5j5rL9wzAvC8"
      },
      "outputs": [],
      "source": [
        "mode_cat=dt['A'].mode()[0]\n"
      ]
    },
    {
      "cell_type": "code",
      "execution_count": 23,
      "metadata": {
        "colab": {
          "base_uri": "https://localhost:8080/",
          "height": 269
        },
        "id": "HmtfrIFNBPx0",
        "outputId": "2d0500a0-1b76-4b9a-d3fd-80d47f421f6e"
      },
      "outputs": [
        {
          "data": {
            "text/html": [
              "<div>\n",
              "<style scoped>\n",
              "    .dataframe tbody tr th:only-of-type {\n",
              "        vertical-align: middle;\n",
              "    }\n",
              "\n",
              "    .dataframe tbody tr th {\n",
              "        vertical-align: top;\n",
              "    }\n",
              "\n",
              "    .dataframe thead th {\n",
              "        text-align: right;\n",
              "    }\n",
              "</style>\n",
              "<table border=\"1\" class=\"dataframe\">\n",
              "  <thead>\n",
              "    <tr style=\"text-align: right;\">\n",
              "      <th></th>\n",
              "      <th>A</th>\n",
              "    </tr>\n",
              "  </thead>\n",
              "  <tbody>\n",
              "    <tr>\n",
              "      <th>0</th>\n",
              "      <td>csgo</td>\n",
              "    </tr>\n",
              "    <tr>\n",
              "      <th>1</th>\n",
              "      <td>valorant</td>\n",
              "    </tr>\n",
              "    <tr>\n",
              "      <th>2</th>\n",
              "      <td>GTA</td>\n",
              "    </tr>\n",
              "    <tr>\n",
              "      <th>3</th>\n",
              "      <td>GTA</td>\n",
              "    </tr>\n",
              "    <tr>\n",
              "      <th>4</th>\n",
              "      <td>PUBG</td>\n",
              "    </tr>\n",
              "    <tr>\n",
              "      <th>5</th>\n",
              "      <td>NaN</td>\n",
              "    </tr>\n",
              "    <tr>\n",
              "      <th>6</th>\n",
              "      <td>NaN</td>\n",
              "    </tr>\n",
              "  </tbody>\n",
              "</table>\n",
              "</div>"
            ],
            "text/plain": [
              "          A\n",
              "0      csgo\n",
              "1  valorant\n",
              "2       GTA\n",
              "3       GTA\n",
              "4      PUBG\n",
              "5       NaN\n",
              "6       NaN"
            ]
          },
          "execution_count": 23,
          "metadata": {},
          "output_type": "execute_result"
        }
      ],
      "source": [
        "dt"
      ]
    },
    {
      "cell_type": "markdown",
      "metadata": {},
      "source": [
        "Find the mode and replace the nan values with it"
      ]
    },
    {
      "cell_type": "code",
      "execution_count": 24,
      "metadata": {
        "colab": {
          "base_uri": "https://localhost:8080/",
          "height": 390
        },
        "id": "TVXFhDwnB_N0",
        "outputId": "c1b9bf26-8a2e-4058-c052-f71bd3444c58"
      },
      "outputs": [
        {
          "data": {
            "text/html": [
              "<div>\n",
              "<style scoped>\n",
              "    .dataframe tbody tr th:only-of-type {\n",
              "        vertical-align: middle;\n",
              "    }\n",
              "\n",
              "    .dataframe tbody tr th {\n",
              "        vertical-align: top;\n",
              "    }\n",
              "\n",
              "    .dataframe thead th {\n",
              "        text-align: right;\n",
              "    }\n",
              "</style>\n",
              "<table border=\"1\" class=\"dataframe\">\n",
              "  <thead>\n",
              "    <tr style=\"text-align: right;\">\n",
              "      <th></th>\n",
              "      <th>A</th>\n",
              "    </tr>\n",
              "  </thead>\n",
              "  <tbody>\n",
              "    <tr>\n",
              "      <th>0</th>\n",
              "      <td>csgo</td>\n",
              "    </tr>\n",
              "    <tr>\n",
              "      <th>1</th>\n",
              "      <td>valorant</td>\n",
              "    </tr>\n",
              "    <tr>\n",
              "      <th>2</th>\n",
              "      <td>GTA</td>\n",
              "    </tr>\n",
              "    <tr>\n",
              "      <th>3</th>\n",
              "      <td>GTA</td>\n",
              "    </tr>\n",
              "    <tr>\n",
              "      <th>4</th>\n",
              "      <td>PUBG</td>\n",
              "    </tr>\n",
              "    <tr>\n",
              "      <th>5</th>\n",
              "      <td>GTA</td>\n",
              "    </tr>\n",
              "    <tr>\n",
              "      <th>6</th>\n",
              "      <td>GTA</td>\n",
              "    </tr>\n",
              "  </tbody>\n",
              "</table>\n",
              "</div>"
            ],
            "text/plain": [
              "          A\n",
              "0      csgo\n",
              "1  valorant\n",
              "2       GTA\n",
              "3       GTA\n",
              "4      PUBG\n",
              "5       GTA\n",
              "6       GTA"
            ]
          },
          "metadata": {},
          "output_type": "display_data"
        }
      ],
      "source": [
        "dt['A'].fillna(mode_cat, inplace=True)\n",
        "display(dt)"
      ]
    }
  ],
  "metadata": {
    "colab": {
      "provenance": []
    },
    "kernelspec": {
      "display_name": "base",
      "language": "python",
      "name": "python3"
    },
    "language_info": {
      "codemirror_mode": {
        "name": "ipython",
        "version": 3
      },
      "file_extension": ".py",
      "mimetype": "text/x-python",
      "name": "python",
      "nbconvert_exporter": "python",
      "pygments_lexer": "ipython3",
      "version": "3.11.5"
    }
  },
  "nbformat": 4,
  "nbformat_minor": 0
}
