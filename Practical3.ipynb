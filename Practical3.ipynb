{
  "nbformat": 4,
  "nbformat_minor": 0,
  "metadata": {
    "colab": {
      "provenance": [],
      "authorship_tag": "ABX9TyOKB0mt9VPdNizQo7e8dU2r",
      "include_colab_link": true
    },
    "kernelspec": {
      "name": "python3",
      "display_name": "Python 3"
    },
    "language_info": {
      "name": "python"
    }
  },
  "cells": [
    {
      "cell_type": "markdown",
      "metadata": {
        "id": "view-in-github",
        "colab_type": "text"
      },
      "source": [
        "<a href=\"https://colab.research.google.com/github/Prakshil/Machine_learning/blob/main/Practical3.ipynb\" target=\"_parent\"><img src=\"https://colab.research.google.com/assets/colab-badge.svg\" alt=\"Open In Colab\"/></a>"
      ]
    },
    {
      "cell_type": "markdown",
      "source": [
        "## **A. Numpy Exercises**"
      ],
      "metadata": {
        "id": "jh2n8_UGSZYx"
      }
    },
    {
      "cell_type": "code",
      "source": [
        "import numpy as np"
      ],
      "metadata": {
        "id": "BtASF7dPTjB_"
      },
      "execution_count": null,
      "outputs": []
    },
    {
      "cell_type": "markdown",
      "source": [
        "## 1. Basic Array Creation & Manipulation\n",
        "\n",
        "• Create a 1D array of numbers from 1 to 20.\n",
        "\n",
        "• Create a 3×4 matrix of ones and reshape it to 4×3.\n",
        "\n",
        "• Create a 5×5 identity matrix.\n",
        "\n",
        "• Generate 15 equally spaced numbers between 5 and 50.\n",
        "\n",
        "• Generate a 4×4 matrix of random integers between 1 and 100."
      ],
      "metadata": {
        "id": "QNWYGQiySxTa"
      }
    },
    {
      "cell_type": "code",
      "source": [
        "array = np.arange(1,21)\n",
        "print(array)\n"
      ],
      "metadata": {
        "colab": {
          "base_uri": "https://localhost:8080/"
        },
        "id": "C1-ZItrQTlL8",
        "outputId": "f4cf3157-74df-4547-9712-e8bc19e2e71f"
      },
      "execution_count": null,
      "outputs": [
        {
          "output_type": "stream",
          "name": "stdout",
          "text": [
            "[ 1  2  3  4  5  6  7  8  9 10 11 12 13 14 15 16 17 18 19 20]\n"
          ]
        }
      ]
    },
    {
      "cell_type": "code",
      "source": [
        "array = np.ones((3,4))\n",
        "print(array)\n",
        "array = array.reshape(4,3)\n",
        "print(array)"
      ],
      "metadata": {
        "colab": {
          "base_uri": "https://localhost:8080/"
        },
        "id": "fiYukQABTr0p",
        "outputId": "8f553f56-8853-4158-ceff-d83ef513de44"
      },
      "execution_count": null,
      "outputs": [
        {
          "output_type": "stream",
          "name": "stdout",
          "text": [
            "[[1. 1. 1. 1.]\n",
            " [1. 1. 1. 1.]\n",
            " [1. 1. 1. 1.]]\n",
            "[[1. 1. 1.]\n",
            " [1. 1. 1.]\n",
            " [1. 1. 1.]\n",
            " [1. 1. 1.]]\n"
          ]
        }
      ]
    },
    {
      "cell_type": "code",
      "source": [
        "array = np.eye(5)\n",
        "print(array)"
      ],
      "metadata": {
        "colab": {
          "base_uri": "https://localhost:8080/"
        },
        "id": "BEnUv_V-TwqV",
        "outputId": "95505e35-54f4-4394-c08e-3bb83f0d65b7"
      },
      "execution_count": null,
      "outputs": [
        {
          "output_type": "stream",
          "name": "stdout",
          "text": [
            "[[1. 0. 0. 0. 0.]\n",
            " [0. 1. 0. 0. 0.]\n",
            " [0. 0. 1. 0. 0.]\n",
            " [0. 0. 0. 1. 0.]\n",
            " [0. 0. 0. 0. 1.]]\n"
          ]
        }
      ]
    },
    {
      "cell_type": "code",
      "source": [
        "array = np.linspace(5,50,15,)\n",
        "print(array)"
      ],
      "metadata": {
        "colab": {
          "base_uri": "https://localhost:8080/"
        },
        "id": "qWi4Up4uT05z",
        "outputId": "d64e3bbd-fe7a-4c25-c7f0-59e64c447554"
      },
      "execution_count": null,
      "outputs": [
        {
          "output_type": "stream",
          "name": "stdout",
          "text": [
            "[ 5.          8.21428571 11.42857143 14.64285714 17.85714286 21.07142857\n",
            " 24.28571429 27.5        30.71428571 33.92857143 37.14285714 40.35714286\n",
            " 43.57142857 46.78571429 50.        ]\n"
          ]
        }
      ]
    },
    {
      "cell_type": "code",
      "source": [
        "array = np.random.randint(1,101,(4,4))\n",
        "print(array)"
      ],
      "metadata": {
        "colab": {
          "base_uri": "https://localhost:8080/"
        },
        "id": "OVGfUlkYT5QM",
        "outputId": "755d3d29-0c27-429d-dc82-682695690e30"
      },
      "execution_count": null,
      "outputs": [
        {
          "output_type": "stream",
          "name": "stdout",
          "text": [
            "[[95 82 30 94]\n",
            " [43 33 14 81]\n",
            " [99 76 67 91]\n",
            " [63 33 99 31]]\n"
          ]
        }
      ]
    },
    {
      "cell_type": "markdown",
      "source": [
        "### 2. Indexing, Slicing, and Broadcasting\n",
        "• Create a 3×3 matrix of random integers between 1 and 100\n",
        "\n",
        "• Extract: First row, Second column, Center element.\n",
        "\n",
        "• Replace all values greater than 50 in a matrix with 999.\n",
        "\n",
        "• Multiply a 1D array of size 5 (random integers between 1 to 10) by 10 using\n",
        "broadcasting."
      ],
      "metadata": {
        "id": "8uU7j5tPS3am"
      }
    },
    {
      "cell_type": "code",
      "source": [
        "array = np.random.randint(1,101,(3,3))\n",
        "print(array)"
      ],
      "metadata": {
        "colab": {
          "base_uri": "https://localhost:8080/"
        },
        "id": "THGxIpWdUCaF",
        "outputId": "e71a938a-bd1f-41e5-bef7-9e3e6c1a183a"
      },
      "execution_count": null,
      "outputs": [
        {
          "output_type": "stream",
          "name": "stdout",
          "text": [
            "[[ 9 84 63]\n",
            " [77 68 67]\n",
            " [20 83 40]]\n"
          ]
        }
      ]
    },
    {
      "cell_type": "code",
      "source": [
        "print(array[0])\n",
        "print(array[:,1:2])\n",
        "print(array[1,1])\n"
      ],
      "metadata": {
        "colab": {
          "base_uri": "https://localhost:8080/"
        },
        "id": "KnhHM9X5UA3G",
        "outputId": "32118c53-c971-401b-a3b1-d4d150db3e0c"
      },
      "execution_count": null,
      "outputs": [
        {
          "output_type": "stream",
          "name": "stdout",
          "text": [
            "[ 9 84 63]\n",
            "[[84]\n",
            " [68]\n",
            " [83]]\n",
            "68\n"
          ]
        }
      ]
    },
    {
      "cell_type": "code",
      "source": [
        "array[array > 50] = 999\n",
        "print(array)"
      ],
      "metadata": {
        "colab": {
          "base_uri": "https://localhost:8080/"
        },
        "id": "_B2kDestUKmH",
        "outputId": "42bf6c54-c39b-4269-b191-20b51b2a9d11"
      },
      "execution_count": null,
      "outputs": [
        {
          "output_type": "stream",
          "name": "stdout",
          "text": [
            "[[  9 999 999]\n",
            " [999 999 999]\n",
            " [ 20 999  40]]\n"
          ]
        }
      ]
    },
    {
      "cell_type": "code",
      "source": [
        "arr1 = np.random.randint(1,11,5)\n",
        "print(arr1)\n",
        "arr2 = 10\n",
        "print(arr1*arr2)"
      ],
      "metadata": {
        "colab": {
          "base_uri": "https://localhost:8080/"
        },
        "id": "ExTYsgTZUPzy",
        "outputId": "5c84a790-ae12-4aa5-b1f8-d8b6695edb5b"
      },
      "execution_count": null,
      "outputs": [
        {
          "output_type": "stream",
          "name": "stdout",
          "text": [
            "[1 9 3 6 8]\n",
            "[10 90 30 60 80]\n"
          ]
        }
      ]
    },
    {
      "cell_type": "markdown",
      "source": [
        "## 3. Mathematical and Statistical Operations\n",
        "\n",
        "• Create a 3×3 matrix of random integers between 1 and 100\n",
        "\n",
        "• Compute sum, mean, median, std, var, min, and max of the above array.\n",
        "\n",
        "• Normalize a 1D array"
      ],
      "metadata": {
        "id": "0FCiIiFwS9-h"
      }
    },
    {
      "cell_type": "code",
      "source": [
        "arr = np.random.randint(1,101,(3,3))\n",
        "print(arr)"
      ],
      "metadata": {
        "colab": {
          "base_uri": "https://localhost:8080/"
        },
        "id": "qAbjyk66UVaK",
        "outputId": "5c0402c0-7431-4eac-e2cc-3029357010fc"
      },
      "execution_count": null,
      "outputs": [
        {
          "output_type": "stream",
          "name": "stdout",
          "text": [
            "[[20  5 18]\n",
            " [40 53 42]\n",
            " [89 76 95]]\n"
          ]
        }
      ]
    },
    {
      "cell_type": "code",
      "source": [
        "print(np.sum(arr))\n",
        "print(np.mean(arr))\n",
        "print(np.median(arr))"
      ],
      "metadata": {
        "colab": {
          "base_uri": "https://localhost:8080/"
        },
        "id": "Jg-7kZW0UYXA",
        "outputId": "d3f0b7ca-f27f-4477-9df6-25a42adf89c1"
      },
      "execution_count": null,
      "outputs": [
        {
          "output_type": "stream",
          "name": "stdout",
          "text": [
            "438\n",
            "48.666666666666664\n",
            "42.0\n"
          ]
        }
      ]
    },
    {
      "cell_type": "code",
      "source": [
        "print(np.std(arr))\n",
        "print(np.var(arr))\n",
        "print(np.min(arr))\n",
        "print(np.max(arr))"
      ],
      "metadata": {
        "colab": {
          "base_uri": "https://localhost:8080/"
        },
        "id": "SRKadAgpUbuB",
        "outputId": "f05fe004-615e-45e4-9b1f-f1bc6b7335d6"
      },
      "execution_count": null,
      "outputs": [
        {
          "output_type": "stream",
          "name": "stdout",
          "text": [
            "30.41929212413289\n",
            "925.3333333333334\n",
            "5\n",
            "95\n"
          ]
        }
      ]
    },
    {
      "cell_type": "code",
      "source": [
        "arr2 = np.random.randint(1,11,5)\n",
        "print(arr2)\n",
        "arr2 = (arr2 - np.min(arr2)) / (np.max(arr2) - np.min(arr2))\n",
        "print(arr2)"
      ],
      "metadata": {
        "colab": {
          "base_uri": "https://localhost:8080/"
        },
        "id": "K140uc5QUewk",
        "outputId": "8abc86e5-36d0-4851-ea96-b45f328548be"
      },
      "execution_count": null,
      "outputs": [
        {
          "output_type": "stream",
          "name": "stdout",
          "text": [
            "[ 3  2 10  3  9]\n",
            "[0.125 0.    1.    0.125 0.875]\n"
          ]
        }
      ]
    },
    {
      "cell_type": "markdown",
      "source": [
        "## 4. NumPy Matrix Operations and Linear Algebra\n",
        "\n",
        "• Generate Following two NumPy matrix import numpy as np\n",
        "\n",
        "A = ([4, 2], [1, 3])\n",
        "\n",
        "B = ([2, 0], [1, 5])\n",
        "\n",
        "• Find matrix multiplication of A and B.\n",
        "\n",
        "• Find dot product of A and B.\n",
        "\n",
        "• Find element wise addition/ subtraction/ multiplications/ division of A and B\n",
        "\n",
        "• Transpose matrix A.\n",
        "\n",
        "• Compute determinant of A.\n",
        "\n",
        "• Compute inverse of A (if possible).\n",
        "\n",
        "• Find eigenvalues and eigenvectors.\n",
        "\n",
        "• Solve the system of equations:\n",
        "\n",
        "2x + y = 8\n",
        "\n",
        "3x + 4y = 18"
      ],
      "metadata": {
        "id": "Um3maMA-TEIO"
      }
    },
    {
      "cell_type": "markdown",
      "source": [],
      "metadata": {
        "id": "Gyp_Jye9SxRb"
      }
    },
    {
      "cell_type": "code",
      "source": [
        "A = np.array([[4, 2], [1, 3]])\n",
        "B = np.array([[2, 1], [1, 5]])\n",
        "\n",
        "print(\"Matrix Multiplication:\")\n",
        "print(A*B)"
      ],
      "metadata": {
        "colab": {
          "base_uri": "https://localhost:8080/"
        },
        "id": "evQDMGbrSmgo",
        "outputId": "7b090fd4-25b5-4019-aa26-31b3563cbb28"
      },
      "execution_count": null,
      "outputs": [
        {
          "output_type": "stream",
          "name": "stdout",
          "text": [
            "Matrix Multiplication:\n",
            "[[ 8  2]\n",
            " [ 1 15]]\n"
          ]
        }
      ]
    },
    {
      "cell_type": "code",
      "source": [
        "print(\"\\nDot Product:\")\n",
        "print(np.dot(A, B))"
      ],
      "metadata": {
        "colab": {
          "base_uri": "https://localhost:8080/"
        },
        "id": "ZnU80sZYUmw8",
        "outputId": "bbf867e2-a91f-4b7b-88bb-cdf20aab437c"
      },
      "execution_count": null,
      "outputs": [
        {
          "output_type": "stream",
          "name": "stdout",
          "text": [
            "\n",
            "Dot Product:\n",
            "[[10 14]\n",
            " [ 5 16]]\n"
          ]
        }
      ]
    },
    {
      "cell_type": "code",
      "source": [
        "print(\"\\nElement Wise Addition:\")\n",
        "print(A+B)\n",
        "print(\"\\nElement Wise Subtraction:\")\n",
        "print(A-B)\n",
        "print(\"\\nElement Wise Multiplication:\")\n",
        "print(A*B)\n",
        "print(\"\\nElement Wise Division:\")\n",
        "print(A/B)"
      ],
      "metadata": {
        "colab": {
          "base_uri": "https://localhost:8080/"
        },
        "id": "_Btyz3nrUni7",
        "outputId": "da1bb1d1-7e01-4593-a858-1b5328f14572"
      },
      "execution_count": null,
      "outputs": [
        {
          "output_type": "stream",
          "name": "stdout",
          "text": [
            "\n",
            "Element Wise Addition:\n",
            "[[6 3]\n",
            " [2 8]]\n",
            "\n",
            "Element Wise Subtraction:\n",
            "[[ 2  1]\n",
            " [ 0 -2]]\n",
            "\n",
            "Element Wise Multiplication:\n",
            "[[ 8  2]\n",
            " [ 1 15]]\n",
            "\n",
            "Element Wise Division:\n",
            "[[2.  2. ]\n",
            " [1.  0.6]]\n"
          ]
        }
      ]
    },
    {
      "cell_type": "code",
      "source": [
        "print(A.T)\n"
      ],
      "metadata": {
        "colab": {
          "base_uri": "https://localhost:8080/"
        },
        "id": "ocIeMFGeUs5O",
        "outputId": "14a5bafd-891b-49f5-c46d-dbfbebfedc47"
      },
      "execution_count": null,
      "outputs": [
        {
          "output_type": "stream",
          "name": "stdout",
          "text": [
            "[[4 1]\n",
            " [2 3]]\n"
          ]
        }
      ]
    },
    {
      "cell_type": "code",
      "source": [
        "print(np.linalg.det(A))"
      ],
      "metadata": {
        "colab": {
          "base_uri": "https://localhost:8080/"
        },
        "id": "ATqIrNe3UvcU",
        "outputId": "63074a1f-d73c-4057-a0f3-e383b7b9d657"
      },
      "execution_count": null,
      "outputs": [
        {
          "output_type": "stream",
          "name": "stdout",
          "text": [
            "10.000000000000002\n"
          ]
        }
      ]
    },
    {
      "cell_type": "code",
      "source": [
        "print(np.linalg.inv(A))\n"
      ],
      "metadata": {
        "colab": {
          "base_uri": "https://localhost:8080/"
        },
        "id": "pV-fw05tUzy8",
        "outputId": "2aa99ebd-63ae-4239-da19-705860ee0380"
      },
      "execution_count": null,
      "outputs": [
        {
          "output_type": "stream",
          "name": "stdout",
          "text": [
            "[[ 0.3 -0.2]\n",
            " [-0.1  0.4]]\n"
          ]
        }
      ]
    },
    {
      "cell_type": "code",
      "source": [
        "eigenvalues, eigenvectors = np.linalg.eig(A)\n",
        "print(\"Eigenvalues:\")\n",
        "print(eigenvalues)\n",
        "print(\"\\nEigenvectors:\")\n",
        "print(eigenvectors)"
      ],
      "metadata": {
        "colab": {
          "base_uri": "https://localhost:8080/"
        },
        "id": "cOzaU_3qU2N1",
        "outputId": "d27dcc8e-13a0-449d-cc0f-f98f26a40acc"
      },
      "execution_count": null,
      "outputs": [
        {
          "output_type": "stream",
          "name": "stdout",
          "text": [
            "Eigenvalues:\n",
            "[5. 2.]\n",
            "\n",
            "Eigenvectors:\n",
            "[[ 0.89442719 -0.70710678]\n",
            " [ 0.4472136   0.70710678]]\n"
          ]
        }
      ]
    },
    {
      "cell_type": "code",
      "source": [
        "A = np.array([[2, 1], [3, 4]])\n",
        "B = np.array([8, 18])\n",
        "solution = np.linalg.solve(A, B)\n",
        "print(\"Solution (x, y):\", solution)"
      ],
      "metadata": {
        "colab": {
          "base_uri": "https://localhost:8080/"
        },
        "id": "zqtgOPf0U34-",
        "outputId": "a291aa7e-1de2-4d84-afc3-c293f7217aa3"
      },
      "execution_count": null,
      "outputs": [
        {
          "output_type": "stream",
          "name": "stdout",
          "text": [
            "Solution (x, y): [2.8 2.4]\n"
          ]
        }
      ]
    },
    {
      "cell_type": "markdown",
      "source": [
        "## **B. Pandas Exercises**"
      ],
      "metadata": {
        "id": "O4IGTiMsSRv0"
      }
    },
    {
      "cell_type": "code",
      "source": [
        "import pandas as pd"
      ],
      "metadata": {
        "id": "S9sbZhL3SY9W"
      },
      "execution_count": null,
      "outputs": []
    },
    {
      "cell_type": "markdown",
      "source": [
        "## 1.Series & DataFrame Basics"
      ],
      "metadata": {
        "id": "2qvEOBg_Xdvi"
      }
    },
    {
      "cell_type": "markdown",
      "source": [
        "• Given the following list of marks: [78, 85, 92, 70, 66]\n",
        "\n",
        "Create a Pandas Series and assign the following student names as indices: ['Amit', 'Bhavna', 'Chetan', 'Divya', 'Esha']\n",
        "\n",
        "Display the Series\n",
        "\n",
        "\n",
        "\n",
        "\n",
        "\n",
        "\n",
        "\n",
        "\n",
        "\n",
        "\n",
        "\n"
      ],
      "metadata": {
        "id": "MO4X8JMaSQSE"
      }
    },
    {
      "cell_type": "code",
      "source": [
        "data = [78,52,92,70,66 ]\n",
        "index =['amit', 'Bhavna', 'Chetan ', 'Divya', 'Esha']\n",
        "new = pd.Series(data, index = index )\n",
        "print(new)"
      ],
      "metadata": {
        "colab": {
          "base_uri": "https://localhost:8080/"
        },
        "id": "Snfl1gS9SWLT",
        "outputId": "16f83ddb-9a29-4164-d4d2-404c378c9ae5"
      },
      "execution_count": null,
      "outputs": [
        {
          "output_type": "stream",
          "name": "stdout",
          "text": [
            "amit       78\n",
            "Bhavna     52\n",
            "Chetan     92\n",
            "Divya      70\n",
            "Esha       66\n",
            "dtype: int64\n"
          ]
        }
      ]
    },
    {
      "cell_type": "markdown",
      "source": [
        "# 2. Using the following dictionary:\n",
        "\n",
        "data = {\n",
        "\n",
        " 'Name': ['Amit', 'Bhavna', 'Chetan', 'Divya', 'Esha'],\n",
        "\n",
        " 'Gender': ['Male', 'Female', 'Male', 'Female', 'Female'],\n",
        "\n",
        " 'Math': [78, 85, 92, 70, 66],\n",
        "\n",
        " 'Science': [88, 79, 95, 72, 60]\n",
        "\n",
        "}\n",
        "\n",
        "\n",
        "Create a Pandas DataFrame and display:\n",
        "\n",
        "• The full DataFrame\n",
        "\n",
        "• The column names\n",
        "\n",
        "• The shape of the DataFrame"
      ],
      "metadata": {
        "id": "k-1CdYmjVTtY"
      }
    },
    {
      "cell_type": "code",
      "source": [
        "newdata = {\n",
        " 'Name': ['Amit', 'Bhavna', 'Chetan', 'Divya', 'Esha'],\n",
        " 'Gender': ['Male', 'Female', 'Male', 'Female', 'Female'],\n",
        " 'Math': [78, 85, 92, 70, 66],\n",
        " 'Science': [88, 79, 95, 72, 60]\n",
        "}"
      ],
      "metadata": {
        "id": "eHzs95unVlig"
      },
      "execution_count": null,
      "outputs": []
    },
    {
      "cell_type": "code",
      "source": [
        "df=pd.DataFrame(newdata)\n",
        "print(df)\n"
      ],
      "metadata": {
        "colab": {
          "base_uri": "https://localhost:8080/"
        },
        "id": "vfX6H4KrUK8j",
        "outputId": "f813e0c7-c789-47a9-e823-389ce13f8762"
      },
      "execution_count": null,
      "outputs": [
        {
          "output_type": "stream",
          "name": "stdout",
          "text": [
            "     Name  Gender  Math  Science\n",
            "0    Amit    Male    78       88\n",
            "1  Bhavna  Female    85       79\n",
            "2  Chetan    Male    92       95\n",
            "3   Divya  Female    70       72\n",
            "4    Esha  Female    66       60\n"
          ]
        }
      ]
    },
    {
      "cell_type": "code",
      "source": [
        "print(df.columns)"
      ],
      "metadata": {
        "colab": {
          "base_uri": "https://localhost:8080/"
        },
        "id": "knfr7P4zWgG7",
        "outputId": "91e945de-0832-481f-84e0-e2b0aef8e094"
      },
      "execution_count": null,
      "outputs": [
        {
          "output_type": "stream",
          "name": "stdout",
          "text": [
            "Index(['Name', 'Gender', 'Math', 'Science'], dtype='object')\n"
          ]
        }
      ]
    },
    {
      "cell_type": "code",
      "source": [
        "print(df.shape)"
      ],
      "metadata": {
        "colab": {
          "base_uri": "https://localhost:8080/"
        },
        "id": "g9CXC_KiWuR6",
        "outputId": "16f725a9-7433-42e3-f025-4b0ea46f5b41"
      },
      "execution_count": null,
      "outputs": [
        {
          "output_type": "stream",
          "name": "stdout",
          "text": [
            "(5, 4)\n"
          ]
        }
      ]
    },
    {
      "cell_type": "code",
      "source": [],
      "metadata": {
        "id": "kNwejQ6FXO_f"
      },
      "execution_count": null,
      "outputs": []
    },
    {
      "cell_type": "markdown",
      "source": [
        "## 2.Data Exploration"
      ],
      "metadata": {
        "id": "fSTqUK11XP3j"
      }
    },
    {
      "cell_type": "markdown",
      "source": [
        "• Load the dataset from this url \"https://archive.ics.uci.edu/ml/machine-learningdatabases/autos/imports-85.data\"\n",
        "\n",
        "• Assign names of columns:\n",
        "\n",
        "[\"symboling\",\"normalized-losses\",\"make\",\"fuel-type\",\"aspiration\", \"num-ofdoors\",\"body-style\", \"drive-wheels\",\"engine-location\",\"wheelbase\",\"length\",\"width\",\"height\",\"curb-weight\",\"engine-type\",\"num-of-cylinders\",\n",
        "\"engine-size\",\"fuel-system\",\"bore\",\"stroke\",\"compression-ratio\",\"horsepower\",\n",
        "\"peak-rpm\",\"city-mpg\",\"highway-mpg\",\"price\"]\n",
        "\n",
        "• Display .shape, .columns, .info(), and .describe().\n",
        "\n",
        "• Display only \",\"width\",\"height\",\"curb-weight\",\"engine-type\" columns.\n",
        "\n",
        "• Display car details which have num-of-doors = four\n"
      ],
      "metadata": {
        "id": "f3QudSAQI1lE"
      }
    },
    {
      "cell_type": "code",
      "source": [
        "url = \"https://archive.ics.uci.edu/ml/machine-learning-databases/autos/imports-85.data\"\n",
        "columns = [\"symboling\",\"normalized-losses\",\"make\",\"fuel-type\",\"aspiration\", \"num-ofdoors\",\"body-style\", \"drive-wheels\",\"engine-location\",\"wheelbase\",\"length\",\"width\",\"height\",\"curb-weight\",\"engine-type\",\"num-of-cylinders\",\n",
        "\"engine-size\",\"fuel-system\",\"bore\",\"stroke\",\"compression-ratio\",\"horsepower\",\n",
        "\"peak-rpm\",\"city-mpg\",\"highway-mpg\",\"price\"]\n"
      ],
      "metadata": {
        "id": "5t-uc0N8Xh_y"
      },
      "execution_count": null,
      "outputs": []
    },
    {
      "cell_type": "code",
      "source": [
        "ndf = pd.read_csv(url , names = columns, delimiter = \",\", na_values = '?')\n",
        "print(ndf.head(10))"
      ],
      "metadata": {
        "colab": {
          "base_uri": "https://localhost:8080/"
        },
        "id": "83wIEEorX0n-",
        "outputId": "e6192cd1-cc19-4d97-9ad6-89b59477b2d8"
      },
      "execution_count": null,
      "outputs": [
        {
          "output_type": "stream",
          "name": "stdout",
          "text": [
            "   symboling  normalized-losses         make fuel-type aspiration num-ofdoors  \\\n",
            "0          3                NaN  alfa-romero       gas        std         two   \n",
            "1          3                NaN  alfa-romero       gas        std         two   \n",
            "2          1                NaN  alfa-romero       gas        std         two   \n",
            "3          2              164.0         audi       gas        std        four   \n",
            "4          2              164.0         audi       gas        std        four   \n",
            "5          2                NaN         audi       gas        std         two   \n",
            "6          1              158.0         audi       gas        std        four   \n",
            "7          1                NaN         audi       gas        std        four   \n",
            "8          1              158.0         audi       gas      turbo        four   \n",
            "9          0                NaN         audi       gas      turbo         two   \n",
            "\n",
            "    body-style drive-wheels engine-location  wheelbase  ...  engine-size  \\\n",
            "0  convertible          rwd           front       88.6  ...          130   \n",
            "1  convertible          rwd           front       88.6  ...          130   \n",
            "2    hatchback          rwd           front       94.5  ...          152   \n",
            "3        sedan          fwd           front       99.8  ...          109   \n",
            "4        sedan          4wd           front       99.4  ...          136   \n",
            "5        sedan          fwd           front       99.8  ...          136   \n",
            "6        sedan          fwd           front      105.8  ...          136   \n",
            "7        wagon          fwd           front      105.8  ...          136   \n",
            "8        sedan          fwd           front      105.8  ...          131   \n",
            "9    hatchback          4wd           front       99.5  ...          131   \n",
            "\n",
            "   fuel-system  bore  stroke compression-ratio horsepower  peak-rpm city-mpg  \\\n",
            "0         mpfi  3.47    2.68               9.0      111.0    5000.0       21   \n",
            "1         mpfi  3.47    2.68               9.0      111.0    5000.0       21   \n",
            "2         mpfi  2.68    3.47               9.0      154.0    5000.0       19   \n",
            "3         mpfi  3.19    3.40              10.0      102.0    5500.0       24   \n",
            "4         mpfi  3.19    3.40               8.0      115.0    5500.0       18   \n",
            "5         mpfi  3.19    3.40               8.5      110.0    5500.0       19   \n",
            "6         mpfi  3.19    3.40               8.5      110.0    5500.0       19   \n",
            "7         mpfi  3.19    3.40               8.5      110.0    5500.0       19   \n",
            "8         mpfi  3.13    3.40               8.3      140.0    5500.0       17   \n",
            "9         mpfi  3.13    3.40               7.0      160.0    5500.0       16   \n",
            "\n",
            "   highway-mpg    price  \n",
            "0           27  13495.0  \n",
            "1           27  16500.0  \n",
            "2           26  16500.0  \n",
            "3           30  13950.0  \n",
            "4           22  17450.0  \n",
            "5           25  15250.0  \n",
            "6           25  17710.0  \n",
            "7           25  18920.0  \n",
            "8           20  23875.0  \n",
            "9           22      NaN  \n",
            "\n",
            "[10 rows x 26 columns]\n"
          ]
        }
      ]
    },
    {
      "cell_type": "code",
      "source": [
        "print(ndf.shape)"
      ],
      "metadata": {
        "colab": {
          "base_uri": "https://localhost:8080/"
        },
        "id": "PAYQRR3Iab59",
        "outputId": "94f31729-70ff-49a1-95fc-508dcdef911e"
      },
      "execution_count": null,
      "outputs": [
        {
          "output_type": "stream",
          "name": "stdout",
          "text": [
            "(205, 26)\n"
          ]
        }
      ]
    },
    {
      "cell_type": "code",
      "source": [
        "print(ndf.columns)"
      ],
      "metadata": {
        "colab": {
          "base_uri": "https://localhost:8080/"
        },
        "id": "dru_YRlzaloW",
        "outputId": "cfda3c0b-e7f6-47b8-f12f-d187e6aa6488"
      },
      "execution_count": null,
      "outputs": [
        {
          "output_type": "stream",
          "name": "stdout",
          "text": [
            "Index(['symboling', 'normalized-losses', 'make', 'fuel-type', 'aspiration',\n",
            "       'num-ofdoors', 'body-style', 'drive-wheels', 'engine-location',\n",
            "       'wheelbase', 'length', 'width', 'height', 'curb-weight', 'engine-type',\n",
            "       'num-of-cylinders', 'engine-size', 'fuel-system', 'bore', 'stroke',\n",
            "       'compression-ratio', 'horsepower', 'peak-rpm', 'city-mpg',\n",
            "       'highway-mpg', 'price'],\n",
            "      dtype='object')\n"
          ]
        }
      ]
    },
    {
      "cell_type": "code",
      "source": [
        "print(ndf.info())"
      ],
      "metadata": {
        "colab": {
          "base_uri": "https://localhost:8080/"
        },
        "id": "FZDXl3e3a9h2",
        "outputId": "45b854cf-d06c-4065-f52e-b1fe83bf024d"
      },
      "execution_count": null,
      "outputs": [
        {
          "output_type": "stream",
          "name": "stdout",
          "text": [
            "<class 'pandas.core.frame.DataFrame'>\n",
            "RangeIndex: 205 entries, 0 to 204\n",
            "Data columns (total 26 columns):\n",
            " #   Column             Non-Null Count  Dtype  \n",
            "---  ------             --------------  -----  \n",
            " 0   symboling          205 non-null    int64  \n",
            " 1   normalized-losses  164 non-null    float64\n",
            " 2   make               205 non-null    object \n",
            " 3   fuel-type          205 non-null    object \n",
            " 4   aspiration         205 non-null    object \n",
            " 5   num-ofdoors        203 non-null    object \n",
            " 6   body-style         205 non-null    object \n",
            " 7   drive-wheels       205 non-null    object \n",
            " 8   engine-location    205 non-null    object \n",
            " 9   wheelbase          205 non-null    float64\n",
            " 10  length             205 non-null    float64\n",
            " 11  width              205 non-null    float64\n",
            " 12  height             205 non-null    float64\n",
            " 13  curb-weight        205 non-null    int64  \n",
            " 14  engine-type        205 non-null    object \n",
            " 15  num-of-cylinders   205 non-null    object \n",
            " 16  engine-size        205 non-null    int64  \n",
            " 17  fuel-system        205 non-null    object \n",
            " 18  bore               201 non-null    float64\n",
            " 19  stroke             201 non-null    float64\n",
            " 20  compression-ratio  205 non-null    float64\n",
            " 21  horsepower         203 non-null    float64\n",
            " 22  peak-rpm           203 non-null    float64\n",
            " 23  city-mpg           205 non-null    int64  \n",
            " 24  highway-mpg        205 non-null    int64  \n",
            " 25  price              201 non-null    float64\n",
            "dtypes: float64(11), int64(5), object(10)\n",
            "memory usage: 41.8+ KB\n",
            "None\n"
          ]
        }
      ]
    },
    {
      "cell_type": "code",
      "source": [
        "print(ndf.describe())"
      ],
      "metadata": {
        "colab": {
          "base_uri": "https://localhost:8080/"
        },
        "id": "AVbeNgVhbDDr",
        "outputId": "a8131069-4e26-4dc5-cd6a-61d08a7fb7c6"
      },
      "execution_count": null,
      "outputs": [
        {
          "output_type": "stream",
          "name": "stdout",
          "text": [
            "        symboling  normalized-losses   wheelbase      length       width  \\\n",
            "count  205.000000         164.000000  205.000000  205.000000  205.000000   \n",
            "mean     0.834146         122.000000   98.756585  174.049268   65.907805   \n",
            "std      1.245307          35.442168    6.021776   12.337289    2.145204   \n",
            "min     -2.000000          65.000000   86.600000  141.100000   60.300000   \n",
            "25%      0.000000          94.000000   94.500000  166.300000   64.100000   \n",
            "50%      1.000000         115.000000   97.000000  173.200000   65.500000   \n",
            "75%      2.000000         150.000000  102.400000  183.100000   66.900000   \n",
            "max      3.000000         256.000000  120.900000  208.100000   72.300000   \n",
            "\n",
            "           height  curb-weight  engine-size        bore      stroke  \\\n",
            "count  205.000000   205.000000   205.000000  201.000000  201.000000   \n",
            "mean    53.724878  2555.565854   126.907317    3.329751    3.255423   \n",
            "std      2.443522   520.680204    41.642693    0.273539    0.316717   \n",
            "min     47.800000  1488.000000    61.000000    2.540000    2.070000   \n",
            "25%     52.000000  2145.000000    97.000000    3.150000    3.110000   \n",
            "50%     54.100000  2414.000000   120.000000    3.310000    3.290000   \n",
            "75%     55.500000  2935.000000   141.000000    3.590000    3.410000   \n",
            "max     59.800000  4066.000000   326.000000    3.940000    4.170000   \n",
            "\n",
            "       compression-ratio  horsepower     peak-rpm    city-mpg  highway-mpg  \\\n",
            "count         205.000000  203.000000   203.000000  205.000000   205.000000   \n",
            "mean           10.142537  104.256158  5125.369458   25.219512    30.751220   \n",
            "std             3.972040   39.714369   479.334560    6.542142     6.886443   \n",
            "min             7.000000   48.000000  4150.000000   13.000000    16.000000   \n",
            "25%             8.600000   70.000000  4800.000000   19.000000    25.000000   \n",
            "50%             9.000000   95.000000  5200.000000   24.000000    30.000000   \n",
            "75%             9.400000  116.000000  5500.000000   30.000000    34.000000   \n",
            "max            23.000000  288.000000  6600.000000   49.000000    54.000000   \n",
            "\n",
            "              price  \n",
            "count    201.000000  \n",
            "mean   13207.129353  \n",
            "std     7947.066342  \n",
            "min     5118.000000  \n",
            "25%     7775.000000  \n",
            "50%    10295.000000  \n",
            "75%    16500.000000  \n",
            "max    45400.000000  \n"
          ]
        }
      ]
    },
    {
      "cell_type": "code",
      "source": [
        "cols = ndf[[\"width\",\"height\",\"curb-weight\",\"engine-type\"]]\n",
        "print(cols)"
      ],
      "metadata": {
        "colab": {
          "base_uri": "https://localhost:8080/"
        },
        "id": "jCHctUQxcFud",
        "outputId": "c8a6b8e9-5b57-4c01-e1b1-3487edca0d80"
      },
      "execution_count": null,
      "outputs": [
        {
          "output_type": "stream",
          "name": "stdout",
          "text": [
            "     width  height  curb-weight engine-type\n",
            "0     64.1    48.8         2548        dohc\n",
            "1     64.1    48.8         2548        dohc\n",
            "2     65.5    52.4         2823        ohcv\n",
            "3     66.2    54.3         2337         ohc\n",
            "4     66.4    54.3         2824         ohc\n",
            "..     ...     ...          ...         ...\n",
            "200   68.9    55.5         2952         ohc\n",
            "201   68.8    55.5         3049         ohc\n",
            "202   68.9    55.5         3012        ohcv\n",
            "203   68.9    55.5         3217         ohc\n",
            "204   68.9    55.5         3062         ohc\n",
            "\n",
            "[205 rows x 4 columns]\n"
          ]
        }
      ]
    },
    {
      "cell_type": "code",
      "source": [
        "doors = ndf[ndf['num-ofdoors'] == \"four\"]\n",
        "print(doors)"
      ],
      "metadata": {
        "colab": {
          "base_uri": "https://localhost:8080/"
        },
        "id": "_T7RfIS8d6mE",
        "outputId": "537494fe-c03f-4c3d-d59d-75d804846ca5"
      },
      "execution_count": null,
      "outputs": [
        {
          "output_type": "stream",
          "name": "stdout",
          "text": [
            "     symboling  normalized-losses   make fuel-type aspiration num-ofdoors  \\\n",
            "3            2              164.0   audi       gas        std        four   \n",
            "4            2              164.0   audi       gas        std        four   \n",
            "6            1              158.0   audi       gas        std        four   \n",
            "7            1                NaN   audi       gas        std        four   \n",
            "8            1              158.0   audi       gas      turbo        four   \n",
            "..         ...                ...    ...       ...        ...         ...   \n",
            "200         -1               95.0  volvo       gas        std        four   \n",
            "201         -1               95.0  volvo       gas      turbo        four   \n",
            "202         -1               95.0  volvo       gas        std        four   \n",
            "203         -1               95.0  volvo    diesel      turbo        four   \n",
            "204         -1               95.0  volvo       gas      turbo        four   \n",
            "\n",
            "    body-style drive-wheels engine-location  wheelbase  ...  engine-size  \\\n",
            "3        sedan          fwd           front       99.8  ...          109   \n",
            "4        sedan          4wd           front       99.4  ...          136   \n",
            "6        sedan          fwd           front      105.8  ...          136   \n",
            "7        wagon          fwd           front      105.8  ...          136   \n",
            "8        sedan          fwd           front      105.8  ...          131   \n",
            "..         ...          ...             ...        ...  ...          ...   \n",
            "200      sedan          rwd           front      109.1  ...          141   \n",
            "201      sedan          rwd           front      109.1  ...          141   \n",
            "202      sedan          rwd           front      109.1  ...          173   \n",
            "203      sedan          rwd           front      109.1  ...          145   \n",
            "204      sedan          rwd           front      109.1  ...          141   \n",
            "\n",
            "     fuel-system  bore  stroke compression-ratio horsepower  peak-rpm  \\\n",
            "3           mpfi  3.19    3.40              10.0      102.0    5500.0   \n",
            "4           mpfi  3.19    3.40               8.0      115.0    5500.0   \n",
            "6           mpfi  3.19    3.40               8.5      110.0    5500.0   \n",
            "7           mpfi  3.19    3.40               8.5      110.0    5500.0   \n",
            "8           mpfi  3.13    3.40               8.3      140.0    5500.0   \n",
            "..           ...   ...     ...               ...        ...       ...   \n",
            "200         mpfi  3.78    3.15               9.5      114.0    5400.0   \n",
            "201         mpfi  3.78    3.15               8.7      160.0    5300.0   \n",
            "202         mpfi  3.58    2.87               8.8      134.0    5500.0   \n",
            "203          idi  3.01    3.40              23.0      106.0    4800.0   \n",
            "204         mpfi  3.78    3.15               9.5      114.0    5400.0   \n",
            "\n",
            "    city-mpg  highway-mpg    price  \n",
            "3         24           30  13950.0  \n",
            "4         18           22  17450.0  \n",
            "6         19           25  17710.0  \n",
            "7         19           25  18920.0  \n",
            "8         17           20  23875.0  \n",
            "..       ...          ...      ...  \n",
            "200       23           28  16845.0  \n",
            "201       19           25  19045.0  \n",
            "202       18           23  21485.0  \n",
            "203       26           27  22470.0  \n",
            "204       19           25  22625.0  \n",
            "\n",
            "[114 rows x 26 columns]\n"
          ]
        }
      ]
    },
    {
      "cell_type": "markdown",
      "source": [
        "## 3. Missing values handling"
      ],
      "metadata": {
        "id": "3wyj53mzbIZZ"
      }
    },
    {
      "cell_type": "markdown",
      "source": [
        "\n",
        "• Missing value is represented by ‘?’ in this dataset. Replace it with NULL.\n",
        "\n",
        "• Check how many missing values are there in each attribute.\n",
        "\n",
        "• Replace missing values of \"normalized-losses\", \"stroke\", \"bore\", \"horsepower\" with mean.\n",
        "\n",
        "• Drop all the rows which has missing value in attribute “price”.\n",
        "\n",
        "• Replace missing values of “num-of-doors” with mode.\n",
        "\n",
        "• Replace all other missing values with median.\n"
      ],
      "metadata": {
        "id": "_B9ChG-OginD"
      }
    },
    {
      "cell_type": "code",
      "source": [
        "print(ndf.fillna(value=\"NULL\"))"
      ],
      "metadata": {
        "colab": {
          "base_uri": "https://localhost:8080/"
        },
        "id": "q682TeWrbKij",
        "outputId": "9500225e-0d51-4060-a111-5412a959f99b"
      },
      "execution_count": null,
      "outputs": [
        {
          "output_type": "stream",
          "name": "stdout",
          "text": [
            "     symboling normalized-losses         make fuel-type aspiration  \\\n",
            "0            3              NULL  alfa-romero       gas        std   \n",
            "1            3              NULL  alfa-romero       gas        std   \n",
            "2            1              NULL  alfa-romero       gas        std   \n",
            "3            2             164.0         audi       gas        std   \n",
            "4            2             164.0         audi       gas        std   \n",
            "..         ...               ...          ...       ...        ...   \n",
            "200         -1              95.0        volvo       gas        std   \n",
            "201         -1              95.0        volvo       gas      turbo   \n",
            "202         -1              95.0        volvo       gas        std   \n",
            "203         -1              95.0        volvo    diesel      turbo   \n",
            "204         -1              95.0        volvo       gas      turbo   \n",
            "\n",
            "    num-ofdoors   body-style drive-wheels engine-location  wheelbase  ...  \\\n",
            "0           two  convertible          rwd           front       88.6  ...   \n",
            "1           two  convertible          rwd           front       88.6  ...   \n",
            "2           two    hatchback          rwd           front       94.5  ...   \n",
            "3          four        sedan          fwd           front       99.8  ...   \n",
            "4          four        sedan          4wd           front       99.4  ...   \n",
            "..          ...          ...          ...             ...        ...  ...   \n",
            "200        four        sedan          rwd           front      109.1  ...   \n",
            "201        four        sedan          rwd           front      109.1  ...   \n",
            "202        four        sedan          rwd           front      109.1  ...   \n",
            "203        four        sedan          rwd           front      109.1  ...   \n",
            "204        four        sedan          rwd           front      109.1  ...   \n",
            "\n",
            "     engine-size  fuel-system  bore  stroke compression-ratio horsepower  \\\n",
            "0            130         mpfi  3.47    2.68               9.0      111.0   \n",
            "1            130         mpfi  3.47    2.68               9.0      111.0   \n",
            "2            152         mpfi  2.68    3.47               9.0      154.0   \n",
            "3            109         mpfi  3.19     3.4              10.0      102.0   \n",
            "4            136         mpfi  3.19     3.4               8.0      115.0   \n",
            "..           ...          ...   ...     ...               ...        ...   \n",
            "200          141         mpfi  3.78    3.15               9.5      114.0   \n",
            "201          141         mpfi  3.78    3.15               8.7      160.0   \n",
            "202          173         mpfi  3.58    2.87               8.8      134.0   \n",
            "203          145          idi  3.01     3.4              23.0      106.0   \n",
            "204          141         mpfi  3.78    3.15               9.5      114.0   \n",
            "\n",
            "     peak-rpm city-mpg highway-mpg    price  \n",
            "0      5000.0       21          27  13495.0  \n",
            "1      5000.0       21          27  16500.0  \n",
            "2      5000.0       19          26  16500.0  \n",
            "3      5500.0       24          30  13950.0  \n",
            "4      5500.0       18          22  17450.0  \n",
            "..        ...      ...         ...      ...  \n",
            "200    5400.0       23          28  16845.0  \n",
            "201    5300.0       19          25  19045.0  \n",
            "202    5500.0       18          23  21485.0  \n",
            "203    4800.0       26          27  22470.0  \n",
            "204    5400.0       19          25  22625.0  \n",
            "\n",
            "[205 rows x 26 columns]\n"
          ]
        }
      ]
    },
    {
      "cell_type": "code",
      "source": [
        "attr = ndf.isnull().sum()\n",
        "print(attr)"
      ],
      "metadata": {
        "colab": {
          "base_uri": "https://localhost:8080/"
        },
        "id": "aE1ccKGsiV5m",
        "outputId": "8a70e192-29b2-46eb-b9dc-6d1a182a257e"
      },
      "execution_count": null,
      "outputs": [
        {
          "output_type": "stream",
          "name": "stdout",
          "text": [
            "symboling             0\n",
            "normalized-losses    41\n",
            "make                  0\n",
            "fuel-type             0\n",
            "aspiration            0\n",
            "num-ofdoors           2\n",
            "body-style            0\n",
            "drive-wheels          0\n",
            "engine-location       0\n",
            "wheelbase             0\n",
            "length                0\n",
            "width                 0\n",
            "height                0\n",
            "curb-weight           0\n",
            "engine-type           0\n",
            "num-of-cylinders      0\n",
            "engine-size           0\n",
            "fuel-system           0\n",
            "bore                  4\n",
            "stroke                4\n",
            "compression-ratio     0\n",
            "horsepower            2\n",
            "peak-rpm              2\n",
            "city-mpg              0\n",
            "highway-mpg           0\n",
            "price                 4\n",
            "dtype: int64\n"
          ]
        }
      ]
    },
    {
      "cell_type": "code",
      "source": [
        "ndf [\"normalized-losses\"] = ndf[\"normalized-losses\"].fillna(ndf[\"normalized-losses\"].mean())\n",
        "ndf[\"stroke\"] = ndf[\"stroke\"].fillna(ndf[\"stroke\"].mean())\n",
        "ndf[\"bore\"] = ndf[\"bore\"].fillna(ndf[\"bore\"].mean())\n",
        "ndf[\"horsepower\"] = ndf[\"horsepower\"].fillna(ndf[\"horsepower\"].mean())\n",
        "\n",
        "print(ndf.head(5))"
      ],
      "metadata": {
        "id": "heVJWYDGijfq",
        "colab": {
          "base_uri": "https://localhost:8080/"
        },
        "outputId": "e2ff246f-b3e2-4b52-a064-718db2414b93"
      },
      "execution_count": null,
      "outputs": [
        {
          "output_type": "stream",
          "name": "stdout",
          "text": [
            "   symboling  normalized-losses         make fuel-type aspiration num-ofdoors  \\\n",
            "0          3              122.0  alfa-romero       gas        std         two   \n",
            "1          3              122.0  alfa-romero       gas        std         two   \n",
            "2          1              122.0  alfa-romero       gas        std         two   \n",
            "3          2              164.0         audi       gas        std        four   \n",
            "4          2              164.0         audi       gas        std        four   \n",
            "\n",
            "    body-style drive-wheels engine-location  wheelbase  ...  engine-size  \\\n",
            "0  convertible          rwd           front       88.6  ...          130   \n",
            "1  convertible          rwd           front       88.6  ...          130   \n",
            "2    hatchback          rwd           front       94.5  ...          152   \n",
            "3        sedan          fwd           front       99.8  ...          109   \n",
            "4        sedan          4wd           front       99.4  ...          136   \n",
            "\n",
            "   fuel-system  bore  stroke compression-ratio horsepower  peak-rpm city-mpg  \\\n",
            "0         mpfi  3.47    2.68               9.0      111.0    5000.0       21   \n",
            "1         mpfi  3.47    2.68               9.0      111.0    5000.0       21   \n",
            "2         mpfi  2.68    3.47               9.0      154.0    5000.0       19   \n",
            "3         mpfi  3.19    3.40              10.0      102.0    5500.0       24   \n",
            "4         mpfi  3.19    3.40               8.0      115.0    5500.0       18   \n",
            "\n",
            "   highway-mpg    price  \n",
            "0           27  13495.0  \n",
            "1           27  16500.0  \n",
            "2           26  16500.0  \n",
            "3           30  13950.0  \n",
            "4           22  17450.0  \n",
            "\n",
            "[5 rows x 26 columns]\n"
          ]
        }
      ]
    },
    {
      "cell_type": "code",
      "metadata": {
        "colab": {
          "base_uri": "https://localhost:8080/"
        },
        "id": "6dcedacb",
        "outputId": "ef003ab3-730d-438a-ef15-e8bbf9f93605"
      },
      "source": [
        "print(ndf[ndf[\"price\"].isnull()])\n",
        "ndf = ndf.dropna(subset=['price'])"
      ],
      "execution_count": null,
      "outputs": [
        {
          "output_type": "stream",
          "name": "stdout",
          "text": [
            "     symboling  normalized-losses     make fuel-type aspiration num-ofdoors  \\\n",
            "9            0              122.0     audi       gas      turbo         two   \n",
            "44           1              122.0    isuzu       gas        std         two   \n",
            "45           0              122.0    isuzu       gas        std        four   \n",
            "129          1              122.0  porsche       gas        std         two   \n",
            "\n",
            "    body-style drive-wheels engine-location  wheelbase  ...  engine-size  \\\n",
            "9    hatchback          4wd           front       99.5  ...          131   \n",
            "44       sedan          fwd           front       94.5  ...           90   \n",
            "45       sedan          fwd           front       94.5  ...           90   \n",
            "129  hatchback          rwd           front       98.4  ...          203   \n",
            "\n",
            "     fuel-system  bore  stroke compression-ratio horsepower  peak-rpm  \\\n",
            "9           mpfi  3.13    3.40               7.0      160.0    5500.0   \n",
            "44          2bbl  3.03    3.11               9.6       70.0    5400.0   \n",
            "45          2bbl  3.03    3.11               9.6       70.0    5400.0   \n",
            "129         mpfi  3.94    3.11              10.0      288.0    5750.0   \n",
            "\n",
            "    city-mpg  highway-mpg  price  \n",
            "9         16           22    NaN  \n",
            "44        38           43    NaN  \n",
            "45        38           43    NaN  \n",
            "129       17           28    NaN  \n",
            "\n",
            "[4 rows x 26 columns]\n"
          ]
        }
      ]
    },
    {
      "cell_type": "code",
      "metadata": {
        "colab": {
          "base_uri": "https://localhost:8080/"
        },
        "id": "d42f1720",
        "outputId": "badf31e5-04f5-4bee-c7fe-3cab4deeabc0"
      },
      "source": [
        "ndf[\"num-ofdoors\"] = ndf[\"num-ofdoors\"].fillna(ndf[\"num-ofdoors\"].mode()[0])\n",
        "print(ndf.head(5))"
      ],
      "execution_count": null,
      "outputs": [
        {
          "output_type": "stream",
          "name": "stdout",
          "text": [
            "   symboling  normalized-losses         make fuel-type aspiration num-ofdoors  \\\n",
            "0          3              122.0  alfa-romero       gas        std         two   \n",
            "1          3              122.0  alfa-romero       gas        std         two   \n",
            "2          1              122.0  alfa-romero       gas        std         two   \n",
            "3          2              164.0         audi       gas        std        four   \n",
            "4          2              164.0         audi       gas        std        four   \n",
            "\n",
            "    body-style drive-wheels engine-location  wheelbase  ...  engine-size  \\\n",
            "0  convertible          rwd           front       88.6  ...          130   \n",
            "1  convertible          rwd           front       88.6  ...          130   \n",
            "2    hatchback          rwd           front       94.5  ...          152   \n",
            "3        sedan          fwd           front       99.8  ...          109   \n",
            "4        sedan          4wd           front       99.4  ...          136   \n",
            "\n",
            "   fuel-system  bore  stroke compression-ratio horsepower  peak-rpm city-mpg  \\\n",
            "0         mpfi  3.47    2.68               9.0      111.0    5000.0       21   \n",
            "1         mpfi  3.47    2.68               9.0      111.0    5000.0       21   \n",
            "2         mpfi  2.68    3.47               9.0      154.0    5000.0       19   \n",
            "3         mpfi  3.19    3.40              10.0      102.0    5500.0       24   \n",
            "4         mpfi  3.19    3.40               8.0      115.0    5500.0       18   \n",
            "\n",
            "   highway-mpg    price  \n",
            "0           27  13495.0  \n",
            "1           27  16500.0  \n",
            "2           26  16500.0  \n",
            "3           30  13950.0  \n",
            "4           22  17450.0  \n",
            "\n",
            "[5 rows x 26 columns]\n"
          ]
        },
        {
          "output_type": "stream",
          "name": "stderr",
          "text": [
            "/tmp/ipython-input-41-3827722714.py:1: SettingWithCopyWarning: \n",
            "A value is trying to be set on a copy of a slice from a DataFrame.\n",
            "Try using .loc[row_indexer,col_indexer] = value instead\n",
            "\n",
            "See the caveats in the documentation: https://pandas.pydata.org/pandas-docs/stable/user_guide/indexing.html#returning-a-view-versus-a-copy\n",
            "  ndf[\"num-ofdoors\"] = ndf[\"num-ofdoors\"].fillna(ndf[\"num-ofdoors\"].mode()[0])\n"
          ]
        }
      ]
    },
    {
      "cell_type": "code",
      "source": [
        "ndf[\"peak-rpm\"] = ndf[\"peak-rpm\"].fillna(ndf[\"peak-rpm\"].median())\n",
        "\n",
        "print(ndf.isnull().sum())"
      ],
      "metadata": {
        "colab": {
          "base_uri": "https://localhost:8080/"
        },
        "id": "mjfOQRnjIEyk",
        "outputId": "36306a80-1857-476c-aa1c-9f209996a5c0"
      },
      "execution_count": null,
      "outputs": [
        {
          "output_type": "stream",
          "name": "stdout",
          "text": [
            "symboling            0\n",
            "normalized-losses    0\n",
            "make                 0\n",
            "fuel-type            0\n",
            "aspiration           0\n",
            "num-ofdoors          0\n",
            "body-style           0\n",
            "drive-wheels         0\n",
            "engine-location      0\n",
            "wheelbase            0\n",
            "length               0\n",
            "width                0\n",
            "height               0\n",
            "curb-weight          0\n",
            "engine-type          0\n",
            "num-of-cylinders     0\n",
            "engine-size          0\n",
            "fuel-system          0\n",
            "bore                 0\n",
            "stroke               0\n",
            "compression-ratio    0\n",
            "horsepower           0\n",
            "peak-rpm             0\n",
            "city-mpg             0\n",
            "highway-mpg          0\n",
            "price                0\n",
            "dtype: int64\n"
          ]
        },
        {
          "output_type": "stream",
          "name": "stderr",
          "text": [
            "/tmp/ipython-input-42-1092858644.py:1: SettingWithCopyWarning: \n",
            "A value is trying to be set on a copy of a slice from a DataFrame.\n",
            "Try using .loc[row_indexer,col_indexer] = value instead\n",
            "\n",
            "See the caveats in the documentation: https://pandas.pydata.org/pandas-docs/stable/user_guide/indexing.html#returning-a-view-versus-a-copy\n",
            "  ndf[\"peak-rpm\"] = ndf[\"peak-rpm\"].fillna(ndf[\"peak-rpm\"].median())\n"
          ]
        }
      ]
    },
    {
      "cell_type": "markdown",
      "source": [
        "## 4.Grouping, Sorting, and Aggregation\n",
        "\n",
        "\n",
        "\n",
        "*   Group by “Fuel-type” and compute average price.\n",
        "*    In our dataset, the fuel consumption columns \"city-mpg\" and \"highway-mpg\" are represented by mpg (miles per gallon) unit.\n",
        "\n",
        "\n",
        "Assume we are developing an application in a country that accept the fuel consumption with L/100km standard We will need to apply data transformation to transform mpg into L/100km? The formula for unit conversion is L/100km = 235 / mpg -Sort the DataFrame based on “price” in descending order."
      ],
      "metadata": {
        "id": "UHViSm9gJKZj"
      }
    },
    {
      "cell_type": "code",
      "source": [
        "fuel_price = ndf.groupby('fuel-type')['price'].mean()\n",
        "print(fuel_price)"
      ],
      "metadata": {
        "colab": {
          "base_uri": "https://localhost:8080/"
        },
        "id": "GroOgHGhIEwm",
        "outputId": "b8e93e81-8a9f-48d0-c707-fb67101b426e"
      },
      "execution_count": null,
      "outputs": [
        {
          "output_type": "stream",
          "name": "stdout",
          "text": [
            "fuel-type\n",
            "diesel    15838.15000\n",
            "gas       12916.40884\n",
            "Name: price, dtype: float64\n"
          ]
        }
      ]
    },
    {
      "cell_type": "markdown",
      "source": [
        " conversion formula: L/100km = 235 / mpg"
      ],
      "metadata": {
        "id": "TxlAU2N7J-Y2"
      }
    },
    {
      "cell_type": "code",
      "source": [
        "ndf['city-L/100km'] = 235 / ndf['city-mpg']\n",
        "ndf['highway-L/100km'] = 235 / ndf['highway-mpg']\n",
        "print(ndf[['city-mpg', 'city-L/100km', 'highway-mpg', 'highway-L/100km']].head())"
      ],
      "metadata": {
        "colab": {
          "base_uri": "https://localhost:8080/"
        },
        "id": "o5Y1elTjIEui",
        "outputId": "6a5d601c-59dc-4de9-85ff-d05381eef85c"
      },
      "execution_count": null,
      "outputs": [
        {
          "output_type": "stream",
          "name": "stdout",
          "text": [
            "   city-mpg  city-L/100km  highway-mpg  highway-L/100km\n",
            "0        21     11.190476           27         8.703704\n",
            "1        21     11.190476           27         8.703704\n",
            "2        19     12.368421           26         9.038462\n",
            "3        24      9.791667           30         7.833333\n",
            "4        18     13.055556           22        10.681818\n"
          ]
        },
        {
          "output_type": "stream",
          "name": "stderr",
          "text": [
            "/tmp/ipython-input-44-3429278430.py:1: SettingWithCopyWarning: \n",
            "A value is trying to be set on a copy of a slice from a DataFrame.\n",
            "Try using .loc[row_indexer,col_indexer] = value instead\n",
            "\n",
            "See the caveats in the documentation: https://pandas.pydata.org/pandas-docs/stable/user_guide/indexing.html#returning-a-view-versus-a-copy\n",
            "  ndf['city-L/100km'] = 235 / ndf['city-mpg']\n"
          ]
        }
      ]
    },
    {
      "cell_type": "code",
      "source": [
        "ndf_sorted = ndf.sort_values(by='price', ascending=False)\n",
        "print(ndf_sorted[\"price\"].head(7))"
      ],
      "metadata": {
        "colab": {
          "base_uri": "https://localhost:8080/"
        },
        "id": "x-pjdnNhJyoB",
        "outputId": "13a8cae4-b7da-4ae8-f3a9-6cf2068c48ad"
      },
      "execution_count": null,
      "outputs": [
        {
          "output_type": "stream",
          "name": "stdout",
          "text": [
            "74     45400.0\n",
            "16     41315.0\n",
            "73     40960.0\n",
            "128    37028.0\n",
            "17     36880.0\n",
            "49     36000.0\n",
            "48     35550.0\n",
            "Name: price, dtype: float64\n"
          ]
        }
      ]
    }
  ]
}